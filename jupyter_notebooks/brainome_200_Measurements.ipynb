{
 "cells": [
  {
   "cell_type": "markdown",
   "id": "cfebebd9",
   "metadata": {},
   "source": [
    "![](https://www.brainome.ai/wp-content/uploads/2020/08/brainome_logo.png)\n",
    "# 200 Measurements Overview\n",
    "## Using Brainome's measurements to build better models.\n",
    "\n",
    "- [brainome_201_Data_Suffiency](./brainome_201_Data_Suffiency.ipynb)\n",
    "- [brainome_202_Improving_Learnability](./brainome_202_Improving_Learnability.ipynb)\n",
    "- brainome_203_Right_Sizing_Data_Sets\n",
    "- brainome_204_How_Smart_Is_My_Model\n",
    "- brainome_205_Detecting_Data_Drift\n",
    "- brainome_206_Generalization\n",
    "- brainome_207_Ranking_Features\n",
    "- brainome_208_Advanced_Ranking\n",
    "- brainome_210_High_Dimensionality\n",
    "- brainome_211_Measuring_Bias\n",
    "- brainome_212_Unbalanced_Data"
   ]
  },
  {
   "cell_type": "markdown",
   "id": "9e36fb88",
   "metadata": {},
   "source": [
    "## Next Steps\n",
    "- Check out [brainome_300_Advanced_Features](./brainome_300_Advanced_Features.ipynb)"
   ]
  }
 ],
 "metadata": {
  "celltoolbar": "Edit Metadata",
  "kernelspec": {
   "display_name": "Python 3 (ipykernel)",
   "language": "python",
   "name": "python3"
  },
  "language_info": {
   "codemirror_mode": {
    "name": "ipython",
    "version": 3
   },
   "file_extension": ".py",
   "mimetype": "text/x-python",
   "name": "python",
   "nbconvert_exporter": "python",
   "pygments_lexer": "ipython3",
   "version": "3.9.6"
  }
 },
 "nbformat": 4,
 "nbformat_minor": 5
}