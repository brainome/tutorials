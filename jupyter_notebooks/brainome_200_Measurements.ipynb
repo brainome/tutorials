{
 "cells": [
  {
   "cell_type": "markdown",
   "id": "cfebebd9",
   "metadata": {},
   "source": [
    "![](https://www.brainome.ai/wp-content/uploads/2020/08/brainome_logo.png)\n",
    "# 200 Measurements Overview\n",
    "## Brainome's measurements...\n",
    "\n",
    "- [Brainome 201 Capacity_Progression](./brainome_201_Capacity_Progression.ipynb)\n",
    "- [Brainome 202 MEC](./brainome_202_MEC.ipynb)\n",
    "- [Brainome 203 Data_Drift](./brainome_203_Data_Drift.ipynb)\n",
    "- [Brainome 204 Generalization](./brainome_204_Generalization.ipynb)\n",
    "- [Brainome 205 Pre-training_Ranking](./brainome_205_Pre-training_Ranking.ipynb)\n",
    "- [Brainome 206 Generalization](./brainome_206_High_Dimensionality.ipynb)"
   ]
  },
  {
   "cell_type": "markdown",
   "id": "9e36fb88",
   "metadata": {},
   "source": [
    "## Next Steps\n",
    "- Check out [brainome_300_Advanced_Features](./brainome_300_Advanced_Features.ipynb)"
   ]
  }
 ],
 "metadata": {
  "celltoolbar": "Edit Metadata",
  "kernelspec": {
   "display_name": "Python 3 (ipykernel)",
   "language": "python",
   "name": "python3"
  },
  "language_info": {
   "codemirror_mode": {
    "name": "ipython",
    "version": 3
   },
   "file_extension": ".py",
   "mimetype": "text/x-python",
   "name": "python",
   "nbconvert_exporter": "python",
   "pygments_lexer": "ipython3",
   "version": "3.9.6"
  }
 },
 "nbformat": 4,
 "nbformat_minor": 5
}