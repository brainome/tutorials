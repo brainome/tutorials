{
 "cells": [
  {
   "cell_type": "markdown",
   "id": "5d6df1f3",
   "metadata": {},
   "source": [
    "![](https://www.brainome.ai/wp-content/uploads/2020/08/brainome_logo.png)\n",
    "# 105 Sourcing Your Data Set\n",
    "Brainome accepts CSV files from many sources\n",
    "\n",
    "1. Local file system\n",
    "2. HTTP/HTTPS URL\n",
    "3. Compressed data sets\n",
    "4. Multiple data sets"
   ]
  },
  {
   "cell_type": "markdown",
   "id": "431b880e",
   "metadata": {},
   "source": [
    "## Prerequisites\n",
    "This notebook assumes brainome is installed as per notebook [brainome_101_Quick_Start](brainome_101_Quick_Start.ipynb)\n"
   ]
  },
  {
   "cell_type": "markdown",
   "id": "8a76f187",
   "metadata": {},
   "source": [
    "## 1. Local file system\n",
    "Brainome defaults to reading from the current directory (in this case *jupyter_notebooks*) \n",
    "\n",
    "In this example, we use [data/titanic_train.csv](data/titanic_train.csv)"
   ]
  },
  {
   "cell_type": "code",
   "execution_count": null,
   "id": "81c35599",
   "metadata": {},
   "outputs": [],
   "source": [
    "!brainome data/titanic_train.csv -y | grep -A 6 \"Data:\""
   ]
  },
  {
   "cell_type": "markdown",
   "id": "c65d5739",
   "metadata": {},
   "source": [
    "## 2. HTTP/HTTPS URL\n",
    "Brainome can download a CSV data set from an HTTP URL.\n",
    "\n",
    "\n",
    "In this example, we use [https://download.brainome.ai/data/public/titanic_train.csv](https://download.brainome.ai/data/public/titanic_train.csv)"
   ]
  },
  {
   "cell_type": "code",
   "execution_count": null,
   "id": "781a9407",
   "metadata": {},
   "outputs": [],
   "source": [
    "!brainome https://download.brainome.ai/data/public/titanic_train.csv -y | grep -A 6 \"Data:\""
   ]
  },
  {
   "cell_type": "markdown",
   "id": "05028412",
   "metadata": {},
   "source": [
    "## 3. Compressed data sets\n",
    "Brainome can stream a compressed data set.\n",
    "\n",
    "In this example, we use [data/titanic_compressed.csv.gz](data/titanic_compressed.csv.gz) "
   ]
  },
  {
   "cell_type": "code",
   "execution_count": null,
   "id": "478ea137",
   "metadata": {},
   "outputs": [],
   "source": [
    "!brainome data/titanic_compressed.csv.gz -y | grep -A 6 \"Data:\""
   ]
  },
  {
   "cell_type": "markdown",
   "id": "d6904d21",
   "metadata": {},
   "source": [
    "## 4. Multiple data sets\n",
    "Brainome can accept multiple data sets. They need to all have the same columns.\n",
    "\n",
    "In this example, we use [data/spectrometer.csv](data/spectrometer.csv), [data/spectrometer_A.csv.gz](data/spectrometer_A.csv.gz), and [data/spectrometer_B.csv.gz](data/spectrometer_B.csv.gz)"
   ]
  },
  {
   "cell_type": "code",
   "execution_count": null,
   "id": "870431d1",
   "metadata": {},
   "outputs": [],
   "source": [
    "!brainome data/vehicle.csv data/vehicle_A.csv.gz data/vehicle_B.csv.gz -y  | grep -A 6 \"Data:\""
   ]
  },
  {
   "cell_type": "markdown",
   "id": "83c337d6",
   "metadata": {},
   "source": [
    "## Next Steps\n",
    "- Check out [brainome_106_Describe_Your_CSV](brainome_106_Describe_Your_CSV.ipynb)\n",
    "- Check out [Brainome 200 Measurements](./brainome_200_Measurements.ipynb)"
   ]
  }
 ],
 "metadata": {
  "kernelspec": {
   "display_name": "Python 3 (ipykernel)",
   "language": "python",
   "name": "python3"
  },
  "language_info": {
   "codemirror_mode": {
    "name": "ipython",
    "version": 3
   },
   "file_extension": ".py",
   "mimetype": "text/x-python",
   "name": "python",
   "nbconvert_exporter": "python",
   "pygments_lexer": "ipython3",
   "version": "3.9.6"
  }
 },
 "nbformat": 4,
 "nbformat_minor": 5
}
