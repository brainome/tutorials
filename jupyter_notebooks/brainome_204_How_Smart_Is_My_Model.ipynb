{
 "cells": [
  {
   "cell_type": "markdown",
   "id": "cfebebd9",
   "metadata": {},
   "source": [
    "![](https://www.brainome.ai/wp-content/uploads/2020/08/brainome_logo.png)\n",
    "# 204 How Smart is my Model?\n",
    "Introducing Memory Equivalent Capacity to measure how adaptable my model is.\n",
    "\n",
    "1. What is MEC?\n",
    "2. Titanic's MEC with *Random Forest*\n",
    "3. Titanic's MEC with *Decision Tree*\n",
    "4. Compare MEC"
   ]
  },
  {
   "cell_type": "markdown",
   "id": "1474a59d",
   "metadata": {},
   "source": [
    "## Prerequisites\n",
    "This notebook assumes brainome is installed as per notebook [brainome_101_Quick_Start](brainome_101_Quick_Start.ipynb)\n",
    "\n",
    "The data sets are:\n",
    "* [data/titanic_train.csv](data/titanic_train.csv) for baseline training data"
   ]
  },
  {
   "cell_type": "markdown",
   "id": "33177319",
   "metadata": {},
   "source": [
    "## 1.What is MEC?\n",
    "Brainome can..."
   ]
  },
  {
   "cell_type": "markdown",
   "id": "ef620d93",
   "metadata": {},
   "source": [
    "## 2. Titanic's MEC with *Random Forest*"
   ]
  },
  {
   "cell_type": "code",
   "execution_count": null,
   "id": "f4dc7f42",
   "metadata": {},
   "outputs": [],
   "source": [
    "!brainome data/titanic_train.csv -f RF | grep MEC"
   ]
  },
  {
   "cell_type": "markdown",
   "id": "8f889a13",
   "metadata": {},
   "source": [
    "## 3. Titanic's MEC with *Decision Tree*"
   ]
  },
  {
   "cell_type": "code",
   "execution_count": null,
   "id": "8fa0bdd5",
   "metadata": {},
   "outputs": [],
   "source": [
    "!brainome data/titanic_train.csv -f DT | grep MEC"
   ]
  },
  {
   "cell_type": "markdown",
   "id": "6a0b2595",
   "metadata": {},
   "source": [
    "## 4. Compare RF and DT MEC\n",
    "Pick the model with the least MEC."
   ]
  },
  {
   "cell_type": "markdown",
   "id": "9e36fb88",
   "metadata": {},
   "source": [
    "## Next Steps\n",
    "- Check out [brainome_205_Detecting_Data_Drift](./brainome_205_Detecting_Data_Drift.ipynb)"
   ]
  }
 ],
 "metadata": {
  "celltoolbar": "Edit Metadata",
  "kernelspec": {
   "display_name": "Python 3 (ipykernel)",
   "language": "python",
   "name": "python3"
  },
  "language_info": {
   "codemirror_mode": {
    "name": "ipython",
    "version": 3
   },
   "file_extension": ".py",
   "mimetype": "text/x-python",
   "name": "python",
   "nbconvert_exporter": "python",
   "pygments_lexer": "ipython3",
   "version": "3.9.6"
  }
 },
 "nbformat": 4,
 "nbformat_minor": 5
}
