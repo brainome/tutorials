{
 "cells": [
  {
   "cell_type": "markdown",
   "id": "ebbaa59b",
   "metadata": {},
   "source": [
    "# Brainome Tutorials\n",
    "A series of lessions to show off our new tool."
   ]
  },
  {
   "cell_type": "markdown",
   "id": "75c3ec01",
   "metadata": {},
   "source": [
    "## Tracks\n",
    "* Jupyter Notebook\n",
    " + [google colab](https://colab.research.google.com/notebooks/intro.ipynb#recent=true)\n",
    " + [jupyter.brainome.ai](https://jupyter.brainome.ai)\n",
    "* pip cli\n",
    "* docker cli\n",
    "\n",
    "\n",
    "* google "
   ]
  }
 ],
 "metadata": {
  "kernelspec": {
   "display_name": "Python 3 (ipykernel)",
   "language": "python",
   "name": "python3"
  },
  "language_info": {
   "codemirror_mode": {
    "name": "ipython",
    "version": 3
   },
   "file_extension": ".py",
   "mimetype": "text/x-python",
   "name": "python",
   "nbconvert_exporter": "python",
   "pygments_lexer": "ipython3",
   "version": "3.9.6"
  }
 },
 "nbformat": 4,
 "nbformat_minor": 5
}