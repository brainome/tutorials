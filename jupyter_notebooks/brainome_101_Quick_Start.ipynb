{
 "cells": [
  {
   "cell_type": "markdown",
   "id": "703b5e61",
   "metadata": {},
   "source": [
    "![](https://www.brainome.ai/wp-content/uploads/2020/08/brainome_logo.png)\n",
    "# 101 Quick Start\n",
    "Running brainome in four easy steps\n",
    "1. Install brainome from scratch\n",
    "2. Download data sets\n",
    "3. Run brainome to build a predictor.py\n",
    "4. Validate the predictor.py"
   ]
  },
  {
   "cell_type": "markdown",
   "id": "27f5d236",
   "metadata": {},
   "source": [
    "## 1. Install brainome via pip\n",
    "includes dependencies"
   ]
  },
  {
   "cell_type": "code",
   "execution_count": null,
   "id": "01365cb1",
   "metadata": {
    "tags": [
     "output_scroll"
    ]
   },
   "outputs": [],
   "source": [
    "# pip install brainome \n",
    "import sys\n",
    "!{sys.executable} -m pip install brainome -r ./requirements.txt"
   ]
  },
  {
   "cell_type": "markdown",
   "id": "7ae71992",
   "metadata": {},
   "source": [
    "## 2. Download titanic training and validation data sets"
   ]
  },
  {
   "cell_type": "code",
   "execution_count": null,
   "id": "446e86f8",
   "metadata": {
    "scrolled": true
   },
   "outputs": [],
   "source": [
    "import urllib.request as request\n",
    "response1 = request.urlretrieve('https://download.brainome.ai/data/public/titanic_train.csv', 'data/titanic_train.csv')\n",
    "response2 = request.urlretrieve('https://download.brainome.ai/data/public/titanic_validate.csv', 'data/titanic_validate.csv')"
   ]
  },
  {
   "cell_type": "markdown",
   "id": "7e8a3b84",
   "metadata": {},
   "source": [
    "## Preview training data"
   ]
  },
  {
   "cell_type": "code",
   "execution_count": null,
   "id": "ea0d21b6",
   "metadata": {
    "tags": [
     "output_scroll"
    ]
   },
   "outputs": [],
   "source": [
    "import pandas as pd\n",
    "training_data = pd.read_csv('data/titanic_train.csv')\n",
    "training_data.head()"
   ]
  },
  {
   "cell_type": "markdown",
   "id": "cecc2102",
   "metadata": {},
   "source": [
    "## 3. Run brainome to measure and build a predictor.py\n",
    "This command will measure your data set and produce a python predictor."
   ]
  },
  {
   "cell_type": "code",
   "execution_count": null,
   "id": "8d0dde1a",
   "metadata": {
    "tags": [
     "output_scroll"
    ]
   },
   "outputs": [],
   "source": [
    "!brainome data/titanic_train.csv -rank -f DT -split 90 --yes -o predictor.py"
   ]
  },
  {
   "cell_type": "markdown",
   "id": "a821c333",
   "metadata": {},
   "source": [
    "## View predictor.py source"
   ]
  },
  {
   "cell_type": "code",
   "execution_count": null,
   "id": "a00b7660",
   "metadata": {
    "tags": [
     "output_scroll"
    ]
   },
   "outputs": [],
   "source": [
    "with open('predictor.py', 'r') as data:\n",
    "    print(data.read())"
   ]
  },
  {
   "cell_type": "markdown",
   "id": "7a37fc6e",
   "metadata": {},
   "source": [
    "## 4. Validate predictor\n",
    "Running your predictor on a validation data set demonstrates its effectiveness."
   ]
  },
  {
   "cell_type": "code",
   "execution_count": null,
   "id": "7adb3709",
   "metadata": {},
   "outputs": [],
   "source": [
    "!{sys.executable} predictor.py -validate titanic_validate.csv"
   ]
  },
  {
   "cell_type": "markdown",
   "id": "fc4bc793",
   "metadata": {},
   "source": [
    "## Next steps\n",
    "- Check out [Brainome 102 Using CLI](./brainome_102_Using_CLI.ipynb)\n",
    "- Check out [Brainome 201 Measurements](./brainome_201_Measurements.ipynb)"
   ]
  }
 ],
 "metadata": {
  "celltoolbar": "Edit Metadata",
  "kernelspec": {
   "display_name": "Python 3 (ipykernel)",
   "language": "python",
   "name": "python3"
  },
  "language_info": {
   "codemirror_mode": {
    "name": "ipython",
    "version": 3
   },
   "file_extension": ".py",
   "mimetype": "text/x-python",
   "name": "python",
   "nbconvert_exporter": "python",
   "pygments_lexer": "ipython3",
   "version": "3.9.6"
  }
 },
 "nbformat": 4,
 "nbformat_minor": 5
}
