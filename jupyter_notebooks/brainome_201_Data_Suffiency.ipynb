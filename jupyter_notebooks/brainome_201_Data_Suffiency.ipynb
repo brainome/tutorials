{
 "cells": [
  {
   "cell_type": "markdown",
   "id": "cfebebd9",
   "metadata": {},
   "source": [
    "![](https://www.brainome.ai/wp-content/uploads/2020/08/brainome_logo.png)\n",
    "# 201 Data Suffiency\n",
    "Use Capacity Progression to determine - *does your data has a function?*\n",
    "\n",
    "1. What is Capacity Progression\n",
    "2. Random Data Set CP\n",
    "3. Deterministic Data Set CP\n",
    "4. Real World Data Set CP\n",
    "5. Measures to Improve CP"
   ]
  },
  {
   "cell_type": "markdown",
   "id": "789010a0",
   "metadata": {},
   "source": [
    "## Prerequisites\n",
    "This notebook assumes brainome is installed as per notebook [brainome_101_Quick_Start](brainome_101_Quick_Start.ipynb)\n",
    "\n",
    "The training data sets are:\n",
    "* [data/random.csv](data/random.csv)\n",
    "* [data/deterministic.csv](data/deterministic.csv)\n",
    "* [data/titanic_train.csv](data/titanic_train.csv)"
   ]
  },
  {
   "cell_type": "markdown",
   "id": "33177319",
   "metadata": {},
   "source": [
    "## 1. What is Capacity Progression\n",
    "*Capacity progression measures the learnability of a dataset, by plotting the number of decisions needed to memorize the function presented by the training data relative to the number of instances presented to the predictor  (for an ideal model).*\n",
    "\n",
    "From the [Brainome Glossary](https://www.brainome.ai/documentation/glossary/#Capacity%20Progression)"
   ]
  },
  {
   "cell_type": "markdown",
   "id": "72975533",
   "metadata": {},
   "source": [
    "## 2.  Random Data Set CP\n",
    "The Capacity Progression of a random data set displays an ever increasing linear function."
   ]
  },
  {
   "cell_type": "code",
   "execution_count": null,
   "id": "53f7c9b4",
   "metadata": {},
   "outputs": [],
   "source": [
    "!brainome data/random.csv -y -measureonly | grep -A 1 Capacity -"
   ]
  },
  {
   "cell_type": "markdown",
   "id": "3d2325ad",
   "metadata": {},
   "source": [
    "## 3. Deterministic Data Set CP\n",
    "The Capacity Progression of a deterministic data set displays a plateau."
   ]
  },
  {
   "cell_type": "code",
   "execution_count": null,
   "id": "bfbf5913",
   "metadata": {
    "tags": [
     "output_scroll"
    ]
   },
   "outputs": [],
   "source": [
    "!brainome data/deterministic.csv -y -measureonly | grep -A 1 Capacity -"
   ]
  },
  {
   "cell_type": "markdown",
   "id": "715fee81",
   "metadata": {},
   "source": [
    "## 4. Real World Data Set CP\n",
    "The Capacity Progression of a real world data set is somewhere in the middle."
   ]
  },
  {
   "cell_type": "code",
   "execution_count": null,
   "id": "3a727df3",
   "metadata": {},
   "outputs": [],
   "source": [
    "!brainome data/titanic_train.csv -y -measureonly | grep -A 1 Capacity -"
   ]
  },
  {
   "cell_type": "markdown",
   "id": "2da02d31",
   "metadata": {},
   "source": [
    "## 5. Measures to improve your data set's CP\n",
    "Typical actions to improve the learnability of your data:\n",
    "* Add more instances\n",
    "* Reduce features\n",
    "* Refactor features"
   ]
  },
  {
   "cell_type": "markdown",
   "id": "9e36fb88",
   "metadata": {},
   "source": [
    "## Next Steps\n",
    "- Check out [brainome_203_Right_Sizing_Data_Sets](./brainome_203_Right_Sizing_Data_Sets.ipynb)"
   ]
  },
  {
   "cell_type": "markdown",
   "id": "2292fe1c",
   "metadata": {},
   "source": [
    "# TODO\n",
    "* source data/random.csv\n",
    "* source data/deterministic.csv"
   ]
  }
 ],
 "metadata": {
  "kernelspec": {
   "display_name": "Python 3 (ipykernel)",
   "language": "python",
   "name": "python3"
  },
  "language_info": {
   "codemirror_mode": {
    "name": "ipython",
    "version": 3
   },
   "file_extension": ".py",
   "mimetype": "text/x-python",
   "name": "python",
   "nbconvert_exporter": "python",
   "pygments_lexer": "ipython3",
   "version": "3.9.6"
  }
 },
 "nbformat": 4,
 "nbformat_minor": 5
}
