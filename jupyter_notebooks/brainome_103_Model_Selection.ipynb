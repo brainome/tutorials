{
 "cells": [
  {
   "cell_type": "markdown",
   "id": "cfebebd9",
   "metadata": {},
   "source": [
    "![](https://www.brainome.ai/wp-content/uploads/2020/08/brainome_logo.png)\n",
    "# 103 Model Selection\n",
    "Brainome creates predictors using these three models.\n",
    "1. Automatic\n",
    "2. Random Forest\n",
    "3. Neural Network\n",
    "4. Decision Tree\n"
   ]
  },
  {
   "cell_type": "markdown",
   "id": "1474a59d",
   "metadata": {},
   "source": [
    "## Install brainome"
   ]
  },
  {
   "cell_type": "code",
   "execution_count": null,
   "id": "655a3e12",
   "metadata": {
    "tags": [
     "output_scroll"
    ]
   },
   "outputs": [],
   "source": [
    "# pip install brainome \n",
    "import sys\n",
    "!{sys.executable} -m pip install --upgrade brainome"
   ]
  },
  {
   "cell_type": "markdown",
   "id": "33177319",
   "metadata": {},
   "source": [
    "## 1. Automatic Model Selection\n",
    "Brainome can automatically selects the most appropriate for your measurements model type.\n",
    "In titanic's case, it is Random Forest."
   ]
  },
  {
   "cell_type": "code",
   "execution_count": null,
   "id": "f4dc7f42",
   "metadata": {},
   "outputs": [],
   "source": [
    "!brainome data/titanic_train.csv -y -o automatic_predictor.py"
   ]
  },
  {
   "cell_type": "markdown",
   "id": "8f889a13",
   "metadata": {},
   "source": [
    "## 2. Random Forest\n",
    "You can force selection of Random Forest by using the **-f RF** parameter. "
   ]
  },
  {
   "cell_type": "code",
   "execution_count": null,
   "id": "de2aa21d",
   "metadata": {},
   "outputs": [],
   "source": [
    "!brainome data/titanic_train.csv -f RF -y -o RF_predictor.py"
   ]
  },
  {
   "cell_type": "markdown",
   "id": "67a19649",
   "metadata": {},
   "source": [
    "### View Random Forest Predictor Source Code"
   ]
  },
  {
   "cell_type": "code",
   "execution_count": null,
   "id": "a38ac1e9",
   "metadata": {
    "tags": [
     "output_scroll"
    ]
   },
   "outputs": [],
   "source": [
    "with open('RF_predictor.py', 'r') as data:\n",
    "    print(data.read())"
   ]
  },
  {
   "cell_type": "markdown",
   "id": "72975533",
   "metadata": {},
   "source": [
    "## 3. Neural Network\n",
    "Force the selection of Neural Network by using the **-f NN** parameter."
   ]
  },
  {
   "cell_type": "code",
   "execution_count": null,
   "id": "53f7c9b4",
   "metadata": {},
   "outputs": [],
   "source": [
    "!brainome data/titanic_train.csv -f NN -y -o NN_predictor.py"
   ]
  },
  {
   "cell_type": "markdown",
   "id": "3d2325ad",
   "metadata": {},
   "source": [
    "### View Neural Network Predictor Source Code"
   ]
  },
  {
   "cell_type": "code",
   "execution_count": null,
   "id": "bfbf5913",
   "metadata": {
    "tags": [
     "output_scroll"
    ]
   },
   "outputs": [],
   "source": [
    "with open('NN_predictor.py', 'r') as data:\n",
    "    print(data.read())"
   ]
  },
  {
   "cell_type": "markdown",
   "id": "715fee81",
   "metadata": {},
   "source": [
    "## 4. Decision Tree\n",
    "Force the selection of Decision Tree by using the **-f DT** parameter"
   ]
  },
  {
   "cell_type": "code",
   "execution_count": null,
   "id": "3a727df3",
   "metadata": {},
   "outputs": [],
   "source": [
    "!brainome data/titanic_train.csv -f DT -y -o DT_predictor.py"
   ]
  },
  {
   "cell_type": "markdown",
   "id": "32c326bb",
   "metadata": {},
   "source": [
    "### View Decision Tree Predictor Source Code"
   ]
  },
  {
   "cell_type": "code",
   "execution_count": null,
   "id": "398a4312",
   "metadata": {
    "tags": [
     "output_scroll"
    ]
   },
   "outputs": [],
   "source": [
    "with open('DT_predictor.py', 'r') as data:\n",
    "    print(data.read())"
   ]
  },
  {
   "cell_type": "markdown",
   "id": "9e36fb88",
   "metadata": {},
   "source": [
    "## Next Steps\n",
    "- Check out [Brainome 104_Using_Predictor](./brainome_104_Using_Predictor.ipynb)\n",
    "- Check out [Brainome 201 Measurements](./brainome_201_Measurements.ipynb)"
   ]
  }
 ],
 "metadata": {
  "celltoolbar": "Edit Metadata",
  "kernelspec": {
   "display_name": "Python 3 (ipykernel)",
   "language": "python",
   "name": "python3"
  },
  "language_info": {
   "codemirror_mode": {
    "name": "ipython",
    "version": 3
   },
   "file_extension": ".py",
   "mimetype": "text/x-python",
   "name": "python",
   "nbconvert_exporter": "python",
   "pygments_lexer": "ipython3",
   "version": "3.9.6"
  }
 },
 "nbformat": 4,
 "nbformat_minor": 5
}
