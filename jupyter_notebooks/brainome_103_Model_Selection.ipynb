{
 "cells": [
  {
   "cell_type": "markdown",
   "id": "cfebebd9",
   "metadata": {},
   "source": [
    "![](https://www.brainome.ai/wp-content/uploads/2020/08/brainome_logo.png)\n",
    "# 103 Model Selection\n",
    "Brainome creates predictors using these three models.\n",
    "1. Automatic\n",
    "2. Random Forest\n",
    "3. Neural Network\n",
    "4. Decision Tree\n"
   ]
  },
  {
   "cell_type": "markdown",
   "id": "1474a59d",
   "metadata": {},
   "source": [
    "## Prerequisites\n",
    "This notebook assumes brainome is installed as per notebook [brainome_101_Quick_Start](brainome_101_Quick_Start.ipynb)\n",
    "\n",
    "The data set used is [data/titanic_train.csv](data/titanic_train.csv) for training data"
   ]
  },
  {
   "cell_type": "markdown",
   "id": "33177319",
   "metadata": {},
   "source": [
    "## 1. Automatic Model Selection\n",
    "Brainome can automatically select the most appropriate model type for your data's measurements.\n",
    "In titanic's case, it is Random Forest."
   ]
  },
  {
   "cell_type": "code",
   "execution_count": 1,
   "id": "f4dc7f42",
   "metadata": {
    "tags": [
     "output_scroll"
    ]
   },
   "outputs": [
    {
     "name": "stdout",
     "output_type": "stream",
     "text": [
      "WARNING: Could not detect a GPU. Neural Network generation will be slow.\n",
      "\n",
      "\u001b[01;1mBrainome Table Compiler v1.006-14-prod\u001b[0m\n",
      "Copyright (c) 2019-2021 Brainome, Inc. All Rights Reserved.\n",
      "Licensed to:                 y Demo User  (Evaluation)\n",
      "Expiration Date:             2021-12-12   116 days left\n",
      "Maximum File Size:           100 MB\n",
      "Maximum Instances:           20000\n",
      "Maximum Attributes:          100\n",
      "Maximum Classes:             unlimited\n",
      "Connected to:                daimensions.brainome.ai  (local execution)\n",
      "\n",
      "\u001b[01;1mCommand:\u001b[0m\n",
      "    btc data/titanic_train.csv -y -o predictor_103_automatic.py\n",
      "\n",
      "Start Time:                 08/18/2021, 21:18 UTC\n",
      "\n",
      "Cleaning...done. \n",
      "Splitting into training and validation...done. \n",
      "Pre-training measurements...done. \n",
      "\n",
      "\n",
      "\u001b[01;1mPre-training Measurements\u001b[0m\n",
      "Data:\n",
      "    Input:                      data/titanic_train.csv\n",
      "    Target Column:              Survived\n",
      "    Number of instances:        800\n",
      "    Number of attributes:        11 out of 11\n",
      "    Number of classes:            2\n",
      "\n",
      "Class Balance:                \n",
      "                            died: 61.50%\n",
      "                        survived: 38.50%\n",
      "\n",
      "Learnability:\n",
      "    Best guess accuracy:          61.50%\n",
      "    Data Sufficiency:             Maybe enough data to generalize. [yellow]\n",
      "\n",
      "Capacity Progression:             at [ 5%, 10%, 20%, 40%, 80%, 100% ]\n",
      "    Ideal Machine Learner:              6,   7,   8,   8,   9,   9\n",
      "\n",
      "\n",
      "\n",
      "\n",
      "Expected Generalization:\n",
      "    Decision Tree:                 2.02 bits/bit\n",
      "    Neural Network:                6.52 bits/bit\n",
      "    Random Forest:                10.13 bits/bit\n",
      "\n",
      "Expected Accuracy:              Training            Validation\n",
      "    Decision Tree:               100.00%                52.50%\n",
      "    Neural Network:                 ----                  ----\n",
      "    Random Forest:               100.00%                80.25%\n",
      "\n",
      "Recommendations:\n",
      "    Warning: Data has high information density. Using effort 5 and larger ( -e 5 ) can improve results.\n",
      "    We recommend using Random Forest -f RF.\n",
      "    If predictor accuracy is insufficient, try using the option -rank to automatically select the important attributes.\n",
      "    If predictor accuracy is insufficient, try using the effort option -e with a value of 5 or more to increase training time.\n",
      "    Defaulting to RF model. Model can be forced with -f parameter. \n",
      "\n",
      "\n",
      "Building classifier...done. \n",
      "Compiling predictor...done. \n",
      "Validating predictor...done. \n",
      "\n",
      "\u001b[01;1mPredictor:\u001b[0m                        predictor_103_automatic.py\n",
      "    Classifier Type:              Random Forest\n",
      "    System Type:                  Binary classifier\n",
      "    Training / Validation Split:  60% : 40%\n",
      "    Accuracy:\n",
      "      Best-guess accuracy:        61.50%\n",
      "      Training accuracy:          86.84% (416/479 correct)\n",
      "      Validation Accuracy:        80.99% (260/321 correct)\n",
      "      Combined Model Accuracy:    84.50% (676/800 correct)\n",
      "\n",
      "    Model Capacity (MEC):         41    bits\n",
      "\n",
      "    Generalization Ratio:          9.74 bits/bit\n",
      "    Percent of Data Memorized:    20.84%\n",
      "    Resilience to Noise:          -1.01 dB\n",
      "\n",
      "\n",
      "    Training Confusion Matrix:\n",
      "              Actual | Predicted\n",
      "              ------ | ---------\n",
      "                died |  279   16 \n",
      "            survived |   47  137 \n",
      "\n",
      "    Validation Confusion Matrix:\n",
      "              Actual | Predicted\n",
      "              ------ | ---------\n",
      "                died |  175   22 \n",
      "            survived |   39   85 \n",
      "\n",
      "    Training Accuracy by Class:\n",
      "            Survived |   TP   FP   TN   FN     TPR      TNR      PPV      NPV       F1       TS \n",
      "            -------- | ---- ---- ---- ---- -------- -------- -------- -------- -------- --------\n",
      "                died |  279   47  137   16   94.58%   74.46%   85.58%   89.54%   89.86%   81.58%\n",
      "            survived |  137   16  279   47   74.46%   94.58%   89.54%   85.58%   81.31%   68.50%\n",
      "\n",
      "    Validation Accuracy by Class:\n",
      "            Survived |   TP   FP   TN   FN     TPR      TNR      PPV      NPV       F1       TS \n",
      "            -------- | ---- ---- ---- ---- -------- -------- -------- -------- -------- --------\n",
      "                died |  175   39   85   22   88.83%   68.55%   81.78%   79.44%   85.16%   74.15%\n",
      "            survived |   85   22  175   39   68.55%   88.83%   79.44%   81.78%   73.59%   58.22%\n",
      "\n",
      "\n",
      "    Attribute Ranking:\n",
      "                                      Feature | Relative Importance\n",
      "                                          Sex :   0.4912\n",
      "                                  Cabin_Class :   0.1242\n",
      "                                 Cabin_Number :   0.0664\n",
      "                              Parent_Children :   0.0599\n",
      "                                          Age :   0.0599\n",
      "                                Ticket_Number :   0.0414\n",
      "                                         Fare :   0.0379\n",
      "                                  PassengerId :   0.0332\n",
      "                               Sibling_Spouse :   0.0298\n",
      "                                         Name :   0.0288\n",
      "                          Port_of_Embarkation :   0.0273\n",
      "         \n",
      "\n",
      "\n",
      "\n",
      "End Time:           08/18/2021, 21:18 UTC\n",
      "Runtime Duration:   15s\n",
      "\n"
     ]
    }
   ],
   "source": [
    "!brainome data/titanic_train.csv -y -o predictor_103_automatic.py"
   ]
  },
  {
   "cell_type": "markdown",
   "id": "1c74ca07",
   "metadata": {},
   "source": [
    "The predictor filename is [predictor_103_automatic.py](predictor_103_automatic.py)."
   ]
  },
  {
   "cell_type": "markdown",
   "id": "8f889a13",
   "metadata": {},
   "source": [
    "## 2. Random Forest\n",
    "You can force selection of *Random Forest* model type by using the **-f RF** parameter. \n",
    "\n",
    "The **-modelonly** parameter bypasses the measurements which will not change from the previous run"
   ]
  },
  {
   "cell_type": "code",
   "execution_count": null,
   "id": "de2aa21d",
   "metadata": {
    "tags": [
     "output_scroll"
    ]
   },
   "outputs": [],
   "source": [
    "!brainome data/titanic_train.csv -f RF -y -o predictor_103_RF.py -modelonly"
   ]
  },
  {
   "cell_type": "markdown",
   "id": "84a2691f",
   "metadata": {},
   "source": [
    "Open [predictor_103_RF.py](predictor_103_RF.py) to view the Random Forest Predictor"
   ]
  },
  {
   "cell_type": "markdown",
   "id": "72975533",
   "metadata": {},
   "source": [
    "## 3. Neural Network\n",
    "You can force the selection of *Neural Network* model type by using the **-f NN** parameter."
   ]
  },
  {
   "cell_type": "code",
   "execution_count": null,
   "id": "53f7c9b4",
   "metadata": {
    "tags": [
     "output_scroll"
    ]
   },
   "outputs": [],
   "source": [
    "!brainome data/titanic_train.csv -f NN -y -o predictor_103_NN.py -modelonly"
   ]
  },
  {
   "cell_type": "markdown",
   "id": "116ce265",
   "metadata": {},
   "source": [
    "Open [predictor_103_NN.py](predictor_103_NN.py) to view the Random Forest Predictor"
   ]
  },
  {
   "cell_type": "markdown",
   "id": "715fee81",
   "metadata": {},
   "source": [
    "## 4. Decision Tree\n",
    "You can force the selection of *Decision Tree* model type by using the **-f DT** parameter"
   ]
  },
  {
   "cell_type": "code",
   "execution_count": null,
   "id": "3a727df3",
   "metadata": {
    "tags": [
     "output_scroll"
    ]
   },
   "outputs": [],
   "source": [
    "!brainome data/titanic_train.csv -f DT -y -o predictor_103_DT.py -modelonly"
   ]
  },
  {
   "cell_type": "markdown",
   "id": "81455f1d",
   "metadata": {},
   "source": [
    "Open [predictor_103_DT.py](predictor_103_DT.py) to view the Random Forest Predictor"
   ]
  },
  {
   "cell_type": "markdown",
   "id": "9e36fb88",
   "metadata": {},
   "source": [
    "## Next Steps\n",
    "- Check out [Brainome 104_Using_Predictor](./brainome_104_Using_Predictor.ipynb)\n",
    "- Check out [Brainome 200 Measurements](./brainome_200_Measurements.ipynb)"
   ]
  }
 ],
 "metadata": {
  "kernelspec": {
   "display_name": "Python 3 (ipykernel)",
   "language": "python",
   "name": "python3"
  },
  "language_info": {
   "codemirror_mode": {
    "name": "ipython",
    "version": 3
   },
   "file_extension": ".py",
   "mimetype": "text/x-python",
   "name": "python",
   "nbconvert_exporter": "python",
   "pygments_lexer": "ipython3",
   "version": "3.9.6"
  }
 },
 "nbformat": 4,
 "nbformat_minor": 5
}
