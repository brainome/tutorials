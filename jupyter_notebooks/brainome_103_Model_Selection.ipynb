{
 "cells": [
  {
   "cell_type": "markdown",
   "id": "cfebebd9",
   "metadata": {},
   "source": [
    "![](https://www.brainome.ai/wp-content/uploads/2020/08/brainome_logo.png)\n",
    "# 103 Model Selection\n",
    "Brainome creates predictors using these three models.\n",
    "1. Automatic\n",
    "2. Random Forest\n",
    "3. Neural Network\n",
    "4. Decision Tree\n"
   ]
  },
  {
   "cell_type": "markdown",
   "id": "1474a59d",
   "metadata": {},
   "source": [
    "## Prerequisites\n",
    "This notebook assumes brainome is installed as per notebook [brainome_101_Quick_Start](brainome_101_Quick_Start.ipynb)\n",
    "\n",
    "The data set used is [data/titanic_train.csv](data/titanic_train.csv) for training data"
   ]
  },
  {
   "cell_type": "markdown",
   "id": "33177319",
   "metadata": {},
   "source": [
    "## 1. Automatic Model Selection\n",
    "Brainome can automatically select the most appropriate model type for your data's measurements.\n",
    "In titanic's case, it is Random Forest."
   ]
  },
  {
   "cell_type": "code",
   "execution_count": null,
   "id": "f4dc7f42",
   "metadata": {
    "tags": [
     "output_scroll"
    ]
   },
   "outputs": [],
   "source": [
    "!brainome data/titanic_train.csv -y -o predictor_103_automatic.py"
   ]
  },
  {
   "cell_type": "markdown",
   "id": "1c74ca07",
   "metadata": {},
   "source": [
    "The predictor filename is [predictor_103_automatic.py](predictor_103_automatic.py)."
   ]
  },
  {
   "cell_type": "markdown",
   "id": "8f889a13",
   "metadata": {},
   "source": [
    "## 2. Random Forest\n",
    "You can force selection of *Random Forest* model type by using the **-f RF** parameter. \n",
    "\n",
    "The **-modelonly** parameter bypasses the measurements which will not change from the previous run"
   ]
  },
  {
   "cell_type": "code",
   "execution_count": null,
   "id": "de2aa21d",
   "metadata": {
    "tags": [
     "output_scroll"
    ]
   },
   "outputs": [],
   "source": [
    "!brainome data/titanic_train.csv -f RF -y -o predictor_103_RF.py -modelonly"
   ]
  },
  {
   "cell_type": "markdown",
   "id": "84a2691f",
   "metadata": {},
   "source": [
    "Open [predictor_103_RF.py](predictor_103_RF.py) to view the Random Forest Predictor"
   ]
  },
  {
   "cell_type": "markdown",
   "id": "72975533",
   "metadata": {},
   "source": [
    "## 3. Neural Network\n",
    "You can force the selection of *Neural Network* model type by using the **-f NN** parameter."
   ]
  },
  {
   "cell_type": "code",
   "execution_count": null,
   "id": "53f7c9b4",
   "metadata": {
    "tags": [
     "output_scroll"
    ]
   },
   "outputs": [],
   "source": [
    "!brainome data/titanic_train.csv -f NN -y -o predictor_103_NN.py -modelonly"
   ]
  },
  {
   "cell_type": "markdown",
   "id": "116ce265",
   "metadata": {},
   "source": [
    "Open [predictor_103_NN.py](predictor_103_NN.py) to view the Random Forest Predictor"
   ]
  },
  {
   "cell_type": "markdown",
   "id": "715fee81",
   "metadata": {},
   "source": [
    "## 4. Decision Tree\n",
    "You can force the selection of *Decision Tree* model type by using the **-f DT** parameter"
   ]
  },
  {
   "cell_type": "code",
   "execution_count": null,
   "id": "3a727df3",
   "metadata": {
    "tags": [
     "output_scroll"
    ]
   },
   "outputs": [],
   "source": [
    "!brainome data/titanic_train.csv -f DT -y -o predictor_103_DT.py -modelonly"
   ]
  },
  {
   "cell_type": "markdown",
   "id": "81455f1d",
   "metadata": {},
   "source": [
    "Open [predictor_103_DT.py](predictor_103_DT.py) to view the Random Forest Predictor"
   ]
  },
  {
   "cell_type": "markdown",
   "id": "9e36fb88",
   "metadata": {},
   "source": [
    "## Next Steps\n",
    "- Check out [Brainome 104_Using_Predictor](./brainome_104_Using_Predictor.ipynb)\n",
    "- Check out [Brainome 200 Measurements](./brainome_200_Measurements.ipynb)"
   ]
  }
 ],
 "metadata": {
  "kernelspec": {
   "display_name": "Python 3 (ipykernel)",
   "language": "python",
   "name": "python3"
  },
  "language_info": {
   "codemirror_mode": {
    "name": "ipython",
    "version": 3
   },
   "file_extension": ".py",
   "mimetype": "text/x-python",
   "name": "python",
   "nbconvert_exporter": "python",
   "pygments_lexer": "ipython3",
   "version": "3.9.6"
  }
 },
 "nbformat": 4,
 "nbformat_minor": 5
}