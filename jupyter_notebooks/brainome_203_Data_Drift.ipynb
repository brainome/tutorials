{
 "cells": [
  {
   "cell_type": "markdown",
   "id": "cfebebd9",
   "metadata": {},
   "source": [
    "![](https://www.brainome.ai/wp-content/uploads/2020/08/brainome_logo.png)\n",
    "# 203 Detecting Data Drift\n",
    "Brainome's measurements can be used to detect data drift.\n",
    "1. Using MEC to detect data drift\n",
    "2. Measuring three data sets\n",
    "3. Comparing MECs"
   ]
  },
  {
   "cell_type": "markdown",
   "id": "1474a59d",
   "metadata": {},
   "source": [
    "## Prerequisites\n",
    "This notebook assumes brainome is installed as per notebook [brainome_101_Quick_Start](brainome_101_Quick_Start.ipynb)\n",
    "\n",
    "The data sets are:\n",
    "* [data/titanic_train.csv](data/titanic_train.csv) for baseline training data\n",
    "* [data/titanic_future.csv](data/titanic_future.csv) for future training data\n",
    "* [data/titanic_female_world.csv](data/titanic_female_world.csv) for a different scenario"
   ]
  },
  {
   "cell_type": "markdown",
   "id": "33177319",
   "metadata": {},
   "source": [
    "## 1. Using MEC to detect data drift\n",
    "Brainome can..."
   ]
  },
  {
   "cell_type": "code",
   "execution_count": null,
   "id": "f4dc7f42",
   "metadata": {},
   "outputs": [],
   "source": [
    "!brainome data/titanic_train.csv -y -o automatic_predictor.py"
   ]
  },
  {
   "cell_type": "markdown",
   "id": "8f889a13",
   "metadata": {},
   "source": [
    "## 2. Measuring three data sets\n",
    "We measure several data sets that are all related to our baseline titanic."
   ]
  },
  {
   "cell_type": "code",
   "execution_count": null,
   "id": "de2aa21d",
   "metadata": {},
   "outputs": [],
   "source": [
    "!brainome data/titanic_train.csv -f RF -y -measureonly -o predictor_203_titanic.py -json report_203_titanic.json > output_203_titanic.txt\n",
    "!brainome data/titanic_future.csv -f RF -y -measureonly -o predictor_203_titanic_future.py -json report_203_titanic_future.json > output_203_titanic_future.txt\n",
    "!brainome data/titanic_female_world.csv -f RF -y -measureonly -o predictor_203_titanic_female_world.py -json report_203_titanic_female_world.json > output_203_titanic_female_world.txt"
   ]
  },
  {
   "cell_type": "markdown",
   "id": "72975533",
   "metadata": {},
   "source": [
    "## 3. Comparing MECs\n",
    "Another way..."
   ]
  },
  {
   "cell_type": "code",
   "execution_count": null,
   "id": "53f7c9b4",
   "metadata": {},
   "outputs": [],
   "source": [
    "!brainome data/titanic_train.csv -f NN -y -o NN_predictor.py\n"
   ]
  },
  {
   "cell_type": "markdown",
   "id": "9e36fb88",
   "metadata": {},
   "source": [
    "## Next Steps\n",
    "- Check out [Brainome 204 Generalization](./brainome_204_Generalization.ipynb)"
   ]
  }
 ],
 "metadata": {
  "celltoolbar": "Edit Metadata",
  "kernelspec": {
   "display_name": "Python 3 (ipykernel)",
   "language": "python",
   "name": "python3"
  },
  "language_info": {
   "codemirror_mode": {
    "name": "ipython",
    "version": 3
   },
   "file_extension": ".py",
   "mimetype": "text/x-python",
   "name": "python",
   "nbconvert_exporter": "python",
   "pygments_lexer": "ipython3",
   "version": "3.9.6"
  }
 },
 "nbformat": 4,
 "nbformat_minor": 5
}