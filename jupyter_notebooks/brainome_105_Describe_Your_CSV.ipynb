{
 "cells": [
  {
   "cell_type": "markdown",
   "id": "895a5bb2",
   "metadata": {},
   "source": [
    "![](https://www.brainome.ai/wp-content/uploads/2020/08/brainome_logo.png)\n",
    "# 105 Describing Your Data Set\n",
    "Brainome assumes your CSV file has certain characteristics. Use these parameters to change our assumptions.\n",
    "\n",
    "1. -headerless CSV file\n",
    "2. -target feature\n",
    "3. -ignorecolumns columns to ignore\n",
    "4. -split / -nosplit"
   ]
  },
  {
   "cell_type": "markdown",
   "id": "431b880e",
   "metadata": {},
   "source": [
    "## Prerequisites\n",
    "This notebook assumes brainome is installed as per notebook [brainome_101_Quick_Start](brainome_101_Quick_Start.ipynb)\n"
   ]
  },
  {
   "cell_type": "markdown",
   "id": "8a76f187",
   "metadata": {},
   "source": [
    "## 1. -headerless CSV file\n",
    "Brainome assumes your CSV file has a header row. Use **-headerless** when your CSV file omits the header row.\n",
    "\n",
    "In this example, we use [data/bank.csv](data/bank.csv)"
   ]
  },
  {
   "cell_type": "code",
   "execution_count": null,
   "id": "81c35599",
   "metadata": {},
   "outputs": [],
   "source": [
    "import pandas as pd\n",
    "headerless_data = pd.read_csv('data/bank.csv')\n",
    "headerless_data.head()\n",
    "!brainome data/bank.csv -headerless -y"
   ]
  },
  {
   "cell_type": "markdown",
   "id": "c65d5739",
   "metadata": {},
   "source": [
    "## 2. -target feature\n",
    "Brainome assumes the last column is the target. Use **-target** to specify a different column.\n",
    "\n",
    "In this example, we use [data/titanic_train.csv](data/titanic_train.csv) but rather than predicting *Survived*, we predict *Cabin_Class*\n"
   ]
  },
  {
   "cell_type": "code",
   "execution_count": null,
   "id": "781a9407",
   "metadata": {},
   "outputs": [],
   "source": [
    "import pandas as pd\n",
    "titanic_data = pd.read_csv('data/titanic_train.csv')\n",
    "titanic_data.head()\n",
    "!brainome data/titanic_train.csv -target Cabin_Class -y"
   ]
  },
  {
   "cell_type": "markdown",
   "id": "05028412",
   "metadata": {},
   "source": [
    "## 3. -ignorecolumns columns to ignore\n",
    "Brainome will use all the columns\n",
    "\n",
    "It will generate a complete data set with the \"Prediction\" column appended."
   ]
  },
  {
   "cell_type": "code",
   "execution_count": null,
   "id": "478ea137",
   "metadata": {},
   "outputs": [],
   "source": [
    "!{sys.executable} predictor_104.py data/titanic_predict.csv > classifications_104.csv\n",
    "print('Viewing classification predictions.')\n",
    "import pandas as pd\n",
    "classifications_output = pd.read_csv('classifications_104.csv')\n",
    "classifications_output.head()"
   ]
  },
  {
   "cell_type": "markdown",
   "id": "f530a0c1",
   "metadata": {},
   "source": [
    "Download the [classifications_104.csv](classifications_104.csv) data set"
   ]
  },
  {
   "cell_type": "markdown",
   "id": "bc4c0b48",
   "metadata": {},
   "source": [
    "## 4. Feature engineering predictions\n",
    "While feature engineering, it is desired to only view the features that contributed to the prediction. \n",
    "\n",
    "With the **-trim** parameter, the output will only show the features deemed important by the model."
   ]
  },
  {
   "cell_type": "code",
   "execution_count": null,
   "id": "c9280328",
   "metadata": {},
   "outputs": [],
   "source": [
    "!{sys.executable} predictor_104.py data/titanic_predict.csv -trim > trimmed_classifications_104.csv\n",
    "print('Viewing important features classification predictions.')\n",
    "import pandas as pd\n",
    "trimmed_classifications_output = pd.read_csv('trimmed_classifications_104.csv')\n",
    "trimmed_classifications_output.head()"
   ]
  },
  {
   "cell_type": "markdown",
   "id": "7d25fb81",
   "metadata": {},
   "source": [
    "Download the [trimmed_classifications_104.csv](trimmed_classifications_104.csv) data set."
   ]
  },
  {
   "cell_type": "markdown",
   "id": "86883ae1",
   "metadata": {},
   "source": [
    "## Advanced Predictor Usage\n",
    "See notebook [brainome_300_Predictors.ipynb](brainome_300_Predictors.ipynb) for integrating the predictor within your python program."
   ]
  },
  {
   "cell_type": "markdown",
   "id": "83c337d6",
   "metadata": {},
   "source": [
    "## Next Steps\n",
    "- Check out [brainome_105_Predictor_Json_Measurements](brainome_105_Predictor_Json_Measurements.ipynb)\n",
    "- Check out [Brainome 200 Measurements](./brainome_200_Measurements.ipynb)"
   ]
  }
 ],
 "metadata": {
  "kernelspec": {
   "display_name": "Python 3 (ipykernel)",
   "language": "python",
   "name": "python3"
  },
  "language_info": {
   "codemirror_mode": {
    "name": "ipython",
    "version": 3
   },
   "file_extension": ".py",
   "mimetype": "text/x-python",
   "name": "python",
   "nbconvert_exporter": "python",
   "pygments_lexer": "ipython3",
   "version": "3.9.6"
  }
 },
 "nbformat": 4,
 "nbformat_minor": 5
}