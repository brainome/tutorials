{
 "cells": [
  {
   "cell_type": "markdown",
   "id": "895a5bb2",
   "metadata": {},
   "source": [
    "![](https://www.brainome.ai/wp-content/uploads/2020/08/brainome_logo.png)\n",
    "# 106 Describing Your Data Set\n",
    "Brainome assumes your CSV file has certain characteristics: \n",
    "* the first row is the column headers\n",
    "* the target is the last column\n",
    "* we train using all columns\n",
    "\n",
    "\n",
    "Use these parameters to change our assumptions.\n",
    "\n",
    "1. -headerless CSV file\n",
    "2. Selecting the -target column\n",
    "3. -ignorecolumns to omit unique identifiers"
   ]
  },
  {
   "cell_type": "markdown",
   "id": "431b880e",
   "metadata": {},
   "source": [
    "## Prerequisites\n",
    "This notebook assumes brainome is installed as per notebook [brainome_101_Quick_Start](brainome_101_Quick_Start.ipynb)\n"
   ]
  },
  {
   "cell_type": "markdown",
   "id": "8a76f187",
   "metadata": {},
   "source": [
    "## 1. -headerless CSV file\n",
    "Brainome assumes your CSV file has a header row. \n",
    "\n",
    "Use **-headerless** when your CSV file omits the header row.\n",
    "\n",
    "In this example, we use [data/bank.csv](data/bank.csv)"
   ]
  },
  {
   "cell_type": "code",
   "execution_count": null,
   "id": "81c35599",
   "metadata": {},
   "outputs": [],
   "source": [
    "print(\" Headerless data set bank.csv \".center(80,\"-\"))\n",
    "!head -4 data/bank.csv\n",
    "print(\"\\n\",\" Ranking an headerless data file \".center(80,\"-\"))\n",
    "!brainome data/bank.csv -headerless -y | grep -A 6 \"Attribute Ranking:\""
   ]
  },
  {
   "cell_type": "markdown",
   "id": "c65d5739",
   "metadata": {},
   "source": [
    "## 2. Selecting the -target column\n",
    "Brainome assumes the last column is the target. \n",
    "\n",
    "Use **-target** to specify a different column.\n",
    "\n",
    "In this example, we use [data/titanic_train.csv](data/titanic_train.csv) but rather than predicting *Survived*, we predict *Cabin_Class*\n"
   ]
  },
  {
   "cell_type": "code",
   "execution_count": null,
   "id": "781a9407",
   "metadata": {},
   "outputs": [],
   "source": [
    "!brainome data/titanic_train.csv -target Cabin_Class -y | grep \"Target Column:\""
   ]
  },
  {
   "cell_type": "markdown",
   "id": "05028412",
   "metadata": {},
   "source": [
    "## 3. -ignorecolumns to omit unique identifiers\n",
    "Brainome will use all the columns in your data set. Most data sets include unique identifiers to tie the predictions to an external source.\n",
    "\n",
    "Use **-ignorecolumns** to omit features from your model.\n",
    "\n",
    "In this example, we ignore *PassengerId* and *Ticket_Number* from [data/titanic_train.csv](data/titanic_train.csv) "
   ]
  },
  {
   "cell_type": "code",
   "execution_count": null,
   "id": "478ea137",
   "metadata": {},
   "outputs": [],
   "source": [
    "!brainome data/titanic_train.csv -ignorecolumns \"PassengerId,Ticket_Number\" -y | grep -A 10 \"Attribute Ranking:\""
   ]
  },
  {
   "cell_type": "markdown",
   "id": "83c337d6",
   "metadata": {},
   "source": [
    "## Next Steps\n",
    "- Check out [Brainome 200 Measurements](./brainome_200_Measurements.ipynb)"
   ]
  }
 ],
 "metadata": {
  "kernelspec": {
   "display_name": "Python 3 (ipykernel)",
   "language": "python",
   "name": "python3"
  },
  "language_info": {
   "codemirror_mode": {
    "name": "ipython",
    "version": 3
   },
   "file_extension": ".py",
   "mimetype": "text/x-python",
   "name": "python",
   "nbconvert_exporter": "python",
   "pygments_lexer": "ipython3",
   "version": "3.9.6"
  }
 },
 "nbformat": 4,
 "nbformat_minor": 5
}