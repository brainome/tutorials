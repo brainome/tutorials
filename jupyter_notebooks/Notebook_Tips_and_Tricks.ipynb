{
 "cells": [
  {
   "cell_type": "markdown",
   "id": "3f315ff9",
   "metadata": {},
   "source": [
    "# Notebook Tips and Tricks"
   ]
  },
  {
   "cell_type": "markdown",
   "id": "02c00bf9",
   "metadata": {},
   "source": [
    "## Resources\n",
    "https://jupyterbook.org/content/code-outputs.html"
   ]
  },
  {
   "cell_type": "markdown",
   "id": "076693a5",
   "metadata": {},
   "source": [
    "## Images"
   ]
  },
  {
   "cell_type": "markdown",
   "id": "78586255",
   "metadata": {},
   "source": [
    "### display an image url using code"
   ]
  },
  {
   "cell_type": "code",
   "execution_count": 1,
   "id": "0fcf0afb",
   "metadata": {},
   "outputs": [
    {
     "data": {
      "image/png": "[encoded data removed]",
      "text/plain": [
       "<IPython.core.display.Image object>"
      ]
     },
     "execution_count": 1,
     "metadata": {},
     "output_type": "execute_result"
    }
   ],
   "source": [
    "from IPython.display import Image\n",
    "Image('https://www.brainome.ai/wp-content/uploads/2020/08/brainome_logo.png')"
   ]
  },
  {
   "cell_type": "markdown",
   "id": "e2081583",
   "metadata": {},
   "source": [
    "### display an image via markdown"
   ]
  },
  {
   "cell_type": "markdown",
   "id": "bca453c0",
   "metadata": {},
   "source": [
    "![](https://www.brainome.ai/wp-content/uploads/2020/08/brainome_logo.png)"
   ]
  },
  {
   "cell_type": "markdown",
   "id": "63828323",
   "metadata": {},
   "source": [
    "## Output Control"
   ]
  },
  {
   "cell_type": "markdown",
   "id": "229cbeb9",
   "metadata": {},
   "source": [
    "### Scrolling the output via cell metadata"
   ]
  },
  {
   "cell_type": "markdown",
   "id": "59f38e50",
   "metadata": {},
   "source": [
    "`{\n",
    "  \"tags\": [\n",
    "    \"output_scroll\"\n",
    "  ]\n",
    "}`"
   ]
  },
  {
   "cell_type": "markdown",
   "id": "d2d83551",
   "metadata": {},
   "source": [
    "### CSV table browser"
   ]
  },
  {
   "cell_type": "code",
   "execution_count": 2,
   "id": "4bf81306",
   "metadata": {},
   "outputs": [
    {
     "data": {
      "text/html": [
       "<div>\n",
       "<style scoped>\n",
       "    .dataframe tbody tr th:only-of-type {\n",
       "        vertical-align: middle;\n",
       "    }\n",
       "\n",
       "    .dataframe tbody tr th {\n",
       "        vertical-align: top;\n",
       "    }\n",
       "\n",
       "    .dataframe thead th {\n",
       "        text-align: right;\n",
       "    }\n",
       "</style>\n",
       "<table border=\"1\" class=\"dataframe\">\n",
       "  <thead>\n",
       "    <tr style=\"text-align: right;\">\n",
       "      <th></th>\n",
       "      <th>PassengerId</th>\n",
       "      <th>Cabin_Class</th>\n",
       "      <th>Name</th>\n",
       "      <th>Sex</th>\n",
       "      <th>Age</th>\n",
       "      <th>Sibling_Spouse</th>\n",
       "      <th>Parent_Children</th>\n",
       "      <th>Ticket_Number</th>\n",
       "      <th>Fare</th>\n",
       "      <th>Cabin_Number</th>\n",
       "      <th>Port_of_Embarkation</th>\n",
       "      <th>Survived</th>\n",
       "    </tr>\n",
       "  </thead>\n",
       "  <tbody>\n",
       "    <tr>\n",
       "      <th>0</th>\n",
       "      <td>1</td>\n",
       "      <td>3</td>\n",
       "      <td>Braund, Mr. Owen Harris</td>\n",
       "      <td>male</td>\n",
       "      <td>22.0</td>\n",
       "      <td>1</td>\n",
       "      <td>0</td>\n",
       "      <td>A/5 21171</td>\n",
       "      <td>7.2500</td>\n",
       "      <td>NaN</td>\n",
       "      <td>S</td>\n",
       "      <td>died</td>\n",
       "    </tr>\n",
       "    <tr>\n",
       "      <th>1</th>\n",
       "      <td>2</td>\n",
       "      <td>1</td>\n",
       "      <td>Cumings, Mrs. John Bradley (Florence Briggs Th...</td>\n",
       "      <td>female</td>\n",
       "      <td>38.0</td>\n",
       "      <td>1</td>\n",
       "      <td>0</td>\n",
       "      <td>PC 17599</td>\n",
       "      <td>71.2833</td>\n",
       "      <td>C85</td>\n",
       "      <td>C</td>\n",
       "      <td>survived</td>\n",
       "    </tr>\n",
       "    <tr>\n",
       "      <th>2</th>\n",
       "      <td>3</td>\n",
       "      <td>3</td>\n",
       "      <td>Heikkinen, Miss. Laina</td>\n",
       "      <td>female</td>\n",
       "      <td>26.0</td>\n",
       "      <td>0</td>\n",
       "      <td>0</td>\n",
       "      <td>STON/O2. 3101282</td>\n",
       "      <td>7.9250</td>\n",
       "      <td>NaN</td>\n",
       "      <td>S</td>\n",
       "      <td>survived</td>\n",
       "    </tr>\n",
       "    <tr>\n",
       "      <th>3</th>\n",
       "      <td>4</td>\n",
       "      <td>1</td>\n",
       "      <td>Futrelle, Mrs. Jacques Heath (Lily May Peel)</td>\n",
       "      <td>female</td>\n",
       "      <td>35.0</td>\n",
       "      <td>1</td>\n",
       "      <td>0</td>\n",
       "      <td>113803</td>\n",
       "      <td>53.1000</td>\n",
       "      <td>C123</td>\n",
       "      <td>S</td>\n",
       "      <td>survived</td>\n",
       "    </tr>\n",
       "    <tr>\n",
       "      <th>4</th>\n",
       "      <td>5</td>\n",
       "      <td>3</td>\n",
       "      <td>Allen, Mr. William Henry</td>\n",
       "      <td>male</td>\n",
       "      <td>35.0</td>\n",
       "      <td>0</td>\n",
       "      <td>0</td>\n",
       "      <td>373450</td>\n",
       "      <td>8.0500</td>\n",
       "      <td>NaN</td>\n",
       "      <td>S</td>\n",
       "      <td>died</td>\n",
       "    </tr>\n",
       "  </tbody>\n",
       "</table>\n",
       "</div>"
      ],
      "text/plain": [
       "   PassengerId  Cabin_Class  \\\n",
       "0            1            3   \n",
       "1            2            1   \n",
       "2            3            3   \n",
       "3            4            1   \n",
       "4            5            3   \n",
       "\n",
       "                                                Name     Sex   Age  \\\n",
       "0                            Braund, Mr. Owen Harris    male  22.0   \n",
       "1  Cumings, Mrs. John Bradley (Florence Briggs Th...  female  38.0   \n",
       "2                             Heikkinen, Miss. Laina  female  26.0   \n",
       "3       Futrelle, Mrs. Jacques Heath (Lily May Peel)  female  35.0   \n",
       "4                           Allen, Mr. William Henry    male  35.0   \n",
       "\n",
       "   Sibling_Spouse  Parent_Children     Ticket_Number     Fare Cabin_Number  \\\n",
       "0               1                0         A/5 21171   7.2500          NaN   \n",
       "1               1                0          PC 17599  71.2833          C85   \n",
       "2               0                0  STON/O2. 3101282   7.9250          NaN   \n",
       "3               1                0            113803  53.1000         C123   \n",
       "4               0                0            373450   8.0500          NaN   \n",
       "\n",
       "  Port_of_Embarkation  Survived  \n",
       "0                   S      died  \n",
       "1                   C  survived  \n",
       "2                   S  survived  \n",
       "3                   S  survived  \n",
       "4                   S      died  "
      ]
     },
     "execution_count": 2,
     "metadata": {},
     "output_type": "execute_result"
    }
   ],
   "source": [
    "import pandas as pd\n",
    "training_data = pd.read_csv('titanic_train.csv')\n",
    "training_data.head()"
   ]
  }
 ],
 "metadata": {
  "kernelspec": {
   "display_name": "Python 3 (ipykernel)",
   "language": "python",
   "name": "python3"
  },
  "language_info": {
   "codemirror_mode": {
    "name": "ipython",
    "version": 3
   },
   "file_extension": ".py",
   "mimetype": "text/x-python",
   "name": "python",
   "nbconvert_exporter": "python",
   "pygments_lexer": "ipython3",
   "version": "3.9.6"
  }
 },
 "nbformat": 4,
 "nbformat_minor": 5
}
