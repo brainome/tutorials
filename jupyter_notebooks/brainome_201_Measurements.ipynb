{
 "cells": [
  {
   "cell_type": "markdown",
   "id": "d7d70ceb",
   "metadata": {},
   "source": [
    "![](https://www.brainome.ai/wp-content/uploads/2020/08/brainome_logo.png)\n",
    "# 201 Measuring your data.\n",
    "An overview of how we measure your data."
   ]
  },
  {
   "cell_type": "markdown",
   "id": "357867dd",
   "metadata": {},
   "source": [
    "## Setup\n",
    "Install brainome and download a titanic data set (identical to brainome_101_Quick_Start).\n"
   ]
  },
  {
   "cell_type": "code",
   "execution_count": null,
   "id": "19981cec",
   "metadata": {},
   "outputs": [],
   "source": [
    "# pip install brainome \n",
    "import sys\n",
    "!{sys.executable} -m pip -q install --upgrade brainome\n",
    "!wget -Nq https://download.brainome.ai/data/public/titanic_train.csv\n",
    "!wget -Nq https://download.brainome.ai/data/public/titanic_validate.csv"
   ]
  },
  {
   "cell_type": "markdown",
   "id": "61081181",
   "metadata": {},
   "source": [
    "## Measure your data"
   ]
  },
  {
   "cell_type": "code",
   "execution_count": null,
   "id": "e6a96d2c",
   "metadata": {},
   "outputs": [],
   "source": [
    "!brainome titanic_train.csv -measureonly -y -rank"
   ]
  },
  {
   "cell_type": "markdown",
   "id": "51f05633",
   "metadata": {},
   "source": [
    "## Measure your predictor\n"
   ]
  },
  {
   "cell_type": "code",
   "execution_count": null,
   "id": "337da6b4",
   "metadata": {},
   "outputs": [],
   "source": [
    "!brainome titanic_train.csv -modelonly -y -rank -o predictor.py"
   ]
  },
  {
   "cell_type": "markdown",
   "id": "bd4fae03",
   "metadata": {},
   "source": [
    "## Next Step\n",
    "Check out [Brainome 202 Our Models](./brainome_202_Our_Models.ipynb)"
   ]
  }
 ],
 "metadata": {
  "celltoolbar": "Edit Metadata",
  "kernelspec": {
   "display_name": "Python 3 (ipykernel)",
   "language": "python",
   "name": "python3"
  },
  "language_info": {
   "codemirror_mode": {
    "name": "ipython",
    "version": 3
   },
   "file_extension": ".py",
   "mimetype": "text/x-python",
   "name": "python",
   "nbconvert_exporter": "python",
   "pygments_lexer": "ipython3",
   "version": "3.9.6"
  }
 },
 "nbformat": 4,
 "nbformat_minor": 5
}
