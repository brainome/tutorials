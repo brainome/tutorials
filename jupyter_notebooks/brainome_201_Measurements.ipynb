{
 "cells": [
  {
   "cell_type": "markdown",
   "id": "d7d70ceb",
   "metadata": {},
   "source": [
    "![](https://www.brainome.ai/wp-content/uploads/2020/08/brainome_logo.png)\n",
    "# 201 Measuring your data.\n",
    "An overview of how we measure your data."
   ]
  },
  {
   "cell_type": "markdown",
   "id": "357867dd",
   "metadata": {},
   "source": [
    "## Setup\n",
    "Install brainome and download a titanic data set (identical to brainome_101_Quick_Start).\n"
   ]
  },
  {
   "cell_type": "code",
   "execution_count": 12,
   "id": "19981cec",
   "metadata": {},
   "outputs": [],
   "source": [
    "# pip install brainome \n",
    "import sys\n",
    "!{sys.executable} -m pip -q install --upgrade brainome\n",
    "!wget -Nq https://download.brainome.ai/data/public/titanic_train.csv\n",
    "!wget -Nq https://download.brainome.ai/data/public/titanic_validate.csv"
   ]
  },
  {
   "cell_type": "markdown",
   "id": "61081181",
   "metadata": {},
   "source": [
    "## Measure your data\n",
    "Expected Generalization:\n",
    "Expected Accuracy:"
   ]
  },
  {
   "cell_type": "code",
   "execution_count": 13,
   "id": "e6a96d2c",
   "metadata": {},
   "outputs": [
    {
     "name": "stdout",
     "output_type": "stream",
     "text": [
      "WARNING: Could not detect a GPU. Neural Network generation will be slow.\n",
      "\n",
      "\u001b[01;1mBrainome Table Compiler v1.006-14-prod\u001b[0m\n",
      "Copyright (c) 2019-2021 Brainome, Inc. All Rights Reserved.\n",
      "Licensed to:                 y Demo User  (Evaluation)\n",
      "Expiration Date:             2021-12-12   132 days left\n",
      "Maximum File Size:           100 MB\n",
      "Maximum Instances:           20000\n",
      "Maximum Attributes:          100\n",
      "Maximum Classes:             unlimited\n",
      "Connected to:                daimensions.brainome.ai  (local execution)\n",
      "\n",
      "\u001b[01;1mCommand:\u001b[0m\n",
      "    btc titanic_train.csv -measureonly -y -rank 6\n",
      "\n",
      "Start Time:                 08/02/2021, 22:39 UTC\n",
      "\n",
      "Cleaning...done. \n",
      "Ranking attributes...done. \n",
      "\n",
      "\u001b[01;1mAttribute Ranking:\u001b[0m\n",
      "    Columns selected:           Sex, Sibling_Spouse, Parent_Children, Cabin_Class, Port_of_Embarkation, Age\n",
      "    Risk of coincidental column correlation:    0.0%\n",
      "    \n",
      "    Test Accuracy Progression:\n",
      "                                          Sex :   78.75%\n",
      "                               Sibling_Spouse :   79.62% change   +0.88%\n",
      "                              Parent_Children :   80.25% change   +0.62%\n",
      "                                  Cabin_Class :   80.88% change   +0.63%\n",
      "                          Port_of_Embarkation :   80.62% change   -0.25%\n",
      "                                          Age :   78.25% change   -2.37%\n",
      "         \n",
      "Splitting into training and validation...done. \n",
      "Pre-training measurements...done. \n",
      "\n",
      "\n",
      "\u001b[01;1mPre-training Measurements\u001b[0m\n",
      "Data:\n",
      "    Input:                      titanic_train.csv\n",
      "    Target Column:              Survived\n",
      "    Number of instances:        800\n",
      "    Number of attributes:         6 out of 11\n",
      "    Number of classes:            2\n",
      "\n",
      "Class Balance:                \n",
      "                            died: 61.50%\n",
      "                        survived: 38.50%\n",
      "\n",
      "Learnability:\n",
      "    Best guess accuracy:          61.50%\n",
      "    Data Sufficiency:             Maybe enough data to generalize. [yellow]\n",
      "\n",
      "Capacity Progression:             at [ 5%, 10%, 20%, 40%, 80%, 100% ]\n",
      "    Ideal Machine Learner:              5,   6,   7,   7,   8,   8\n",
      "\n",
      "\n",
      "\n",
      "\n",
      "Expected Generalization:\n",
      "    Decision Tree:                 8.53 bits/bit\n",
      "    Neural Network:               11.83 bits/bit\n",
      "    Random Forest:                10.67 bits/bit\n",
      "\n",
      "Expected Accuracy:              Training            Validation\n",
      "    Decision Tree:                85.38%                75.75%\n",
      "    Neural Network:                 ----                  ----\n",
      "    Random Forest:                95.25%                76.75%\n",
      "\n",
      "Recommendations:\n",
      "    We recommend using Random Forest -f RF.\n",
      "    If predictor accuracy is insufficient, try using the option -rank to automatically select the important attributes.\n",
      "    If predictor accuracy is insufficient, try using the effort option -e with a value of 5 or more to increase training time. \n",
      "\n",
      "Time to Build Estimates:\n",
      "    Decision Tree:                a few seconds\n",
      "\n",
      "\n",
      "\n",
      "\n",
      "\n",
      "\n"
     ]
    }
   ],
   "source": [
    "!brainome titanic_train.csv -measureonly -y"
   ]
  },
  {
   "cell_type": "markdown",
   "id": "51f05633",
   "metadata": {},
   "source": [
    "## Measure your predictor\n"
   ]
  },
  {
   "cell_type": "code",
   "execution_count": null,
   "id": "337da6b4",
   "metadata": {},
   "outputs": [],
   "source": [
    "!brainome titanic_train.csv -modelonly -y -rank -o predictor.py"
   ]
  },
  {
   "cell_type": "markdown",
   "id": "bd4fae03",
   "metadata": {},
   "source": [
    "## Next Step\n",
    "Check out [Brainome 202 Our Models](./brainome_202_Our_Models.ipynb)"
   ]
  }
 ],
 "metadata": {
  "celltoolbar": "Edit Metadata",
  "kernelspec": {
   "display_name": "Python 3 (ipykernel)",
   "language": "python",
   "name": "python3"
  },
  "language_info": {
   "codemirror_mode": {
    "name": "ipython",
    "version": 3
   },
   "file_extension": ".py",
   "mimetype": "text/x-python",
   "name": "python",
   "nbconvert_exporter": "python",
   "pygments_lexer": "ipython3",
   "version": "3.9.6"
  }
 },
 "nbformat": 4,
 "nbformat_minor": 5
}
