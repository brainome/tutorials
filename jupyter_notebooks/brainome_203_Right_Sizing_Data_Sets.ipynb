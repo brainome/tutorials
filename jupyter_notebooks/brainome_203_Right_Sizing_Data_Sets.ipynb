{
 "cells": [
  {
   "cell_type": "markdown",
   "id": "cfebebd9",
   "metadata": {},
   "source": [
    "![](https://www.brainome.ai/wp-content/uploads/2020/08/brainome_logo.png)\n",
    "# 203 Right Sizing Training Data Sets\n",
    "Capacity Progression will show you how much data you need to find the function.\n",
    "\n",
    "1. Capacity Progression shows where the function is well defined.\n",
    "2. Finding your data set's content sweet spot"
   ]
  },
  {
   "cell_type": "markdown",
   "id": "789010a0",
   "metadata": {},
   "source": [
    "## Prerequisites\n",
    "This notebook assumes brainome is installed as per notebook [brainome_101_Quick_Start](brainome_101_Quick_Start.ipynb)\n",
    "\n",
    "The data sets are:\n",
    "* [data/titanic_train.csv](data/titanic_train.csv) for training data\n",
    "* [data/titanic_validate.csv](data/titanic_validate.csv) for validation\n",
    "* [data/titanic_predict.csv](data/titanic_predict.csv) for predictions"
   ]
  },
  {
   "cell_type": "markdown",
   "id": "33177319",
   "metadata": {},
   "source": [
    "## 1. Capacity Progression shows where the function is well defined.\n"
   ]
  },
  {
   "cell_type": "code",
   "execution_count": null,
   "id": "ee344480",
   "metadata": {},
   "outputs": [],
   "source": [
    "!brainome data/titanic_train.csv -y -measureonly | grep -A 1 Capacity -"
   ]
  },
  {
   "cell_type": "markdown",
   "id": "8f889a13",
   "metadata": {},
   "source": [
    "## 2. Finding your data set's content sweet spot\n",
    "Using -split to speed up your training.\n",
    "\n",
    "In this case, 20% of the data set is sufficient to produce a viable model."
   ]
  },
  {
   "cell_type": "code",
   "execution_count": null,
   "id": "de2aa21d",
   "metadata": {},
   "outputs": [],
   "source": [
    "!brainome data/titanic_train.csv -y -measureonly -split 20"
   ]
  },
  {
   "cell_type": "markdown",
   "id": "9e36fb88",
   "metadata": {},
   "source": [
    "## Next Steps\n",
    "- Check out [brainome_204_How_Smart_Is_My_Model](./brainome_204_How_Smart_Is_My_Model.ipynb)"
   ]
  }
 ],
 "metadata": {
  "kernelspec": {
   "display_name": "Python 3 (ipykernel)",
   "language": "python",
   "name": "python3"
  },
  "language_info": {
   "codemirror_mode": {
    "name": "ipython",
    "version": 3
   },
   "file_extension": ".py",
   "mimetype": "text/x-python",
   "name": "python",
   "nbconvert_exporter": "python",
   "pygments_lexer": "ipython3",
   "version": "3.9.6"
  }
 },
 "nbformat": 4,
 "nbformat_minor": 5
}
