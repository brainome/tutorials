{
 "cells": [
  {
   "cell_type": "markdown",
   "id": "cfebebd9",
   "metadata": {},
   "source": [
    "![](https://www.brainome.ai/wp-content/uploads/2020/08/brainome_logo.png)\n",
    "# 300 Advanced Features\n",
    "\n",
    "## Predictors\n",
    "Brainome builds a python predictor that can be run either via command line or by importing into your python program.\n",
    "\n",
    "The predictor has three functions - validation, classification, and classification probabilities (RF and NN only).\n",
    "\n",
    "\n",
    "* Notebook [brainome_104_Using_Predictor](brainome_104_Using_Predictor.ipynb) shows how to use the command line functions.\n",
    "\n",
    "* Notebook [brainome_301_Using_Predictors_in_Python](brainome_301_Using_Predictors_in_Python.ipynb) gives coding examples for validation and classification.\n",
    "\n",
    "* Notebook [brainome_302_Generating_Probabilities](brainome_302_Generating_Probabilities.ipynb) gives a coding example on generating classification probabilities."
   ]
  },
  {
   "cell_type": "markdown",
   "id": "9e36fb88",
   "metadata": {},
   "source": [
    "## Next Steps\n",
    "- Check out [brainome_301_Using_Predictors_in_Python](brainome_301_Using_Predictors_in_Python.ipynb)"
   ]
  }
 ],
 "metadata": {
  "kernelspec": {
   "display_name": "Python 3 (ipykernel)",
   "language": "python",
   "name": "python3"
  },
  "language_info": {
   "codemirror_mode": {
    "name": "ipython",
    "version": 3
   },
   "file_extension": ".py",
   "mimetype": "text/x-python",
   "name": "python",
   "nbconvert_exporter": "python",
   "pygments_lexer": "ipython3",
   "version": "3.9.6"
  }
 },
 "nbformat": 4,
 "nbformat_minor": 5
}
