{
 "cells": [
  {
   "cell_type": "markdown",
   "id": "f6a60e7a",
   "metadata": {},
   "source": [
    "![](https://www.brainome.ai/wp-content/uploads/2020/08/brainome_logo.png)\n",
    "# 102 Using brainome CLI\n",
    "Brainome's primary interface is the command line.\n",
    "1. brainome command line --help\n",
    "2. CLI documentation in depth"
   ]
  },
  {
   "cell_type": "markdown",
   "id": "2f00ca3f",
   "metadata": {},
   "source": [
    "## Prerequisites\n",
    "This notebook assumes brainome is installed as per notebook [brainome_101_Quick_Start](brainome_101_Quick_Start.ipynb)"
   ]
  },
  {
   "cell_type": "markdown",
   "id": "55700465",
   "metadata": {},
   "source": [
    "## 1. brainome help\n",
    "Ever forget a command parameter? Want to know what else we can do?"
   ]
  },
  {
   "cell_type": "code",
   "execution_count": 2,
   "id": "b0f2c1ce",
   "metadata": {},
   "outputs": [
    {
     "name": "stdout",
     "output_type": "stream",
     "text": [
      "usage: brainome [-h] [-version] [-headerless] [-target TARGET]\r\n",
      "                [-ignorecolumns IGNORECOLUMNS] [-rank [ATTRIBUTERANK]]\r\n",
      "                [-measureonly] [-f FORCEMODEL] [-nosplit] [-split FORCESPLIT]\r\n",
      "                [-nsamples NSAMPLES] [-ignoreclasses IGNORELABELS]\r\n",
      "                [-usecolumns IMPORTANTCOLUMNS] [-o OUTPUT] [-v] [-q] [-y]\r\n",
      "                [-e EFFORT] [-biasmeter] [-novalidation] [-balance]\r\n",
      "                [-O OPTIMIZE] [-nofun] [-modelonly]\r\n",
      "                input [input ...]\r\n",
      "\r\n",
      "\u001b[01;30mBrainome Table Compiler (tm)  v1.006-14-prod\u001b[0m\r\n",
      "\r\n",
      "\u001b[01;1mRequired arguments\u001b[0m:\r\n",
      "  input                 Table as CSV files and/or URLs or Command above\r\n",
      "\r\n",
      "\u001b[01;1mOptional arguments\u001b[0m:\r\n",
      "  -h                    show this help message and exit\r\n",
      "  -version, --version   show program's version number and exit\r\n",
      "\r\n",
      "\u001b[01;1mBasic options\u001b[0m:\r\n",
      "  -headerless           Headerless CSV input file.\r\n",
      "  -target TARGET        Specify target column by name or number. Default: last column of table.\r\n",
      "  -ignorecolumns IGNORECOLUMNS\r\n",
      "                        Comma-separated list of columns to ignore by name or number.\r\n",
      "  -rank [ATTRIBUTERANK]\r\n",
      "                        Select the optimal subset of columns for accuracy on held out data\r\n",
      "                        If optional parameter N is given, select the optimal N columns. Works best for DT.\r\n",
      "  -measureonly          Only output measurements, no predictor is built.\r\n",
      "  -f FORCEMODEL         Force model type: DT, NN, RF  Default: RF\r\n",
      "  -nosplit              Use all of the data for training. Default: dataset is split between training and validation.\r\n",
      "  -split FORCESPLIT     Pass it an integer between 50 and 90 telling forcing our system to use that percent of the data for training, and the rest for validation\r\n",
      "\r\n",
      "\u001b[01;1mIntermediate options\u001b[0m:\r\n",
      "  -nsamples NSAMPLES    Train only on a subset of N random samples of the dataset. Default: entire dataset.\r\n",
      "  -ignoreclasses IGNORELABELS\r\n",
      "                        Comma-separated list of classes to ignore.\r\n",
      "  -usecolumns IMPORTANTCOLUMNS\r\n",
      "                        Comma-separated list of columns by name or number used to build the predictor.\r\n",
      "  -o OUTPUT             Predictor filename. Default: a.py\r\n",
      "  -v                    Verbose output\r\n",
      "  -q                    Quiet operation.\r\n",
      "  -y                    Answers yes to all overwrite questions.\r\n",
      "\r\n",
      "\u001b[01;1mAdvanced options\u001b[0m:\r\n",
      "  -e EFFORT             Increase compute time to improve accuracy. 1=<EFFORT<100. Default: 1\r\n",
      "  -biasmeter            Measure model bias\r\n",
      "  -novalidation         Do not measure validation scores for created predictor.\r\n",
      "  -balance              Treat classes as if they were balanced (only active for NN).\r\n",
      "  -O OPTIMIZE           Maximize true positives towards a single class.\r\n",
      "  -nofun                Stop compilation if there are warnings.\r\n",
      "  -modelonly            Perform only the measurements needed to build the model.\r\n",
      "\r\n",
      "\u001b[01;1mExamples:\r\n",
      "\u001b[0mMeasure and build a random forest predictor for titanic\r\n",
      "\u001b[01;34m\tbrainome https://download.brainome.ai/data/public/titanic_train.csv \r\n",
      "\r\n",
      "\u001b[0mBuild a better predictor by ignoring columns:\r\n",
      "\u001b[01;34m\tbrainome titanic_train.csv -ignorecolumns \"PassengerId,Name\" -target Survived \r\n",
      "\r\n",
      "\u001b[0mAutomatically select the important columns by using ranking:\r\n",
      "\u001b[01;34m\tbrainome titanic_train.csv -rank -target Survived \r\n",
      "\r\n",
      "\u001b[0mBuild a neural network model with effort of 5:\r\n",
      "\u001b[01;34m\tbrainome titanic_train.csv -f NN -e 5 -target Survived\r\n",
      "\r\n",
      "\u001b[0mMeasure headerless dataset:\r\n",
      "\u001b[01;34m\tbrainome https://download.brainome.ai/data/public/bank.csv -headerless -measureonly\r\n",
      "\r\n",
      "\u001b[0mFull documentation can be found at https://www.brainome.ai/documentation\r\n",
      "\r\n",
      "\r\n",
      "\r\n",
      "\r\n"
     ]
    }
   ],
   "source": [
    "!brainome --help"
   ]
  },
  {
   "cell_type": "markdown",
   "id": "ed13a689",
   "metadata": {},
   "source": [
    "## 2. CLI documentation in depth\n",
    "Additionional documentation can be found at\n",
    "\n",
    "[https://www.brainome.ai/documentation/tutorial_advanced/](https://www.brainome.ai/documentation/tutorial_advanced/)"
   ]
  },
  {
   "cell_type": "markdown",
   "id": "75e8fa0e",
   "metadata": {},
   "source": [
    "## Next steps\n",
    "- Check out [Brainome 103 Model Selection](./brainome_103_Model_Selection.ipynb)\n",
    "- Check out [Brainome 201 Measurements](./brainome_201_Measurements.ipynb)"
   ]
  }
 ],
 "metadata": {
  "kernelspec": {
   "display_name": "Python 3 (ipykernel)",
   "language": "python",
   "name": "python3"
  },
  "language_info": {
   "codemirror_mode": {
    "name": "ipython",
    "version": 3
   },
   "file_extension": ".py",
   "mimetype": "text/x-python",
   "name": "python",
   "nbconvert_exporter": "python",
   "pygments_lexer": "ipython3",
   "version": "3.9.6"
  }
 },
 "nbformat": 4,
 "nbformat_minor": 5
}
