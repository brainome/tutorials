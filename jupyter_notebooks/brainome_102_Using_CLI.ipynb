{
 "cells": [
  {
   "cell_type": "markdown",
   "id": "f6a60e7a",
   "metadata": {},
   "source": [
    "![](https://www.brainome.ai/wp-content/uploads/2020/08/brainome_logo.png)\n",
    "# 102 Using brainome CLI"
   ]
  },
  {
   "cell_type": "markdown",
   "id": "2f00ca3f",
   "metadata": {},
   "source": [
    "## Install brainome via pip"
   ]
  },
  {
   "cell_type": "code",
   "execution_count": null,
   "id": "ae6c46cc",
   "metadata": {
    "tags": [
     "output_scroll"
    ]
   },
   "outputs": [],
   "source": [
    "# pip install brainome \n",
    "import sys\n",
    "!{sys.executable} -m pip install --upgrade brainome"
   ]
  },
  {
   "cell_type": "markdown",
   "id": "55700465",
   "metadata": {},
   "source": [
    "## brainome help\n",
    "Ever forget a command parameter? Want to know what else we can do?"
   ]
  },
  {
   "cell_type": "code",
   "execution_count": null,
   "id": "b0f2c1ce",
   "metadata": {},
   "outputs": [],
   "source": [
    "!brainome --help"
   ]
  },
  {
   "cell_type": "markdown",
   "id": "75e8fa0e",
   "metadata": {},
   "source": [
    "## Next steps\n",
    "- Check out [Brainome 103 Model Selection](./brainome_103_Model_Selection.ipynb)\n",
    "- Check out [Brainome 201 Measurements](./brainome_201_Measurements.ipynb)"
   ]
  }
 ],
 "metadata": {
  "celltoolbar": "Edit Metadata",
  "kernelspec": {
   "display_name": "Python 3 (ipykernel)",
   "language": "python",
   "name": "python3"
  },
  "language_info": {
   "codemirror_mode": {
    "name": "ipython",
    "version": 3
   },
   "file_extension": ".py",
   "mimetype": "text/x-python",
   "name": "python",
   "nbconvert_exporter": "python",
   "pygments_lexer": "ipython3",
   "version": "3.9.6"
  }
 },
 "nbformat": 4,
 "nbformat_minor": 5
}
