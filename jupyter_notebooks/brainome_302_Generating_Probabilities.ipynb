{
 "cells": [
  {
   "cell_type": "markdown",
   "id": "cfebebd9",
   "metadata": {},
   "source": [
    "![](https://www.brainome.ai/wp-content/uploads/2020/08/brainome_logo.png)\n",
    "# 302 Generating Probabilities\n",
    "Brainome's *Random Forest* and *Neural Network* model predictors can also generate probabilities."
   ]
  },
  {
   "cell_type": "markdown",
   "id": "900275fe",
   "metadata": {},
   "source": [
    "## Prerequisites\n",
    "This notebook assumes brainome is installed as per notebook [brainome_101_Quick_Start](brainome_101_Quick_Start.ipynb)\n",
    "\n",
    "The data sets are:\n",
    "* [data/titanic_train.csv](data/titanic_train.csv) for training data\n",
    "* [data/titanic_predict.csv](data/titanic_predict.csv) for predictions\n",
    "\n",
    "Predictors require numpy to run and optionally scipy to generate a confusion matrix."
   ]
  },
  {
   "cell_type": "markdown",
   "id": "1474a59d",
   "metadata": {},
   "source": [
    "## Build a Random Forest predictor\n",
    "Change this command of -f NN for the same functionality using a Neural Network model.\n",
    "The predictor filename is [predictor_302.py](predictor_302.py)"
   ]
  },
  {
   "cell_type": "code",
   "execution_count": null,
   "id": "655a3e12",
   "metadata": {},
   "outputs": [],
   "source": [
    "!brainome data/titanic_train.csv -y -f RF -split 90 -o predictor_302.py -modelonly -q\n",
    "!head -n 50 predictor_302.py | tail -n 30"
   ]
  },
  {
   "cell_type": "markdown",
   "id": "33177319",
   "metadata": {},
   "source": [
    "## Generating classification probabilities for a data set\n",
    "Rather than picking a single class, this feature outputs the probabilities for each class."
   ]
  },
  {
   "cell_type": "code",
   "execution_count": null,
   "id": "f4dc7f42",
   "metadata": {},
   "outputs": [],
   "source": [
    "import pandas as pd\n",
    "import predictor_302 as predictor\n",
    "predict_data = pd.read_csv('data/titanic_predict.csv', na_values=[], na_filter=False)\n",
    "predict_values = predict_data.values\n",
    "probabilities_output = predictor.predict(predict_values, return_probabilities=True)\n",
    "print(' Prediction Probabilities '.center(80, '-'))\n",
    "print(probabilities_output)"
   ]
  },
  {
   "cell_type": "markdown",
   "id": "11de2d52",
   "metadata": {},
   "source": [
    "## Combining probabilities into the source data set"
   ]
  },
  {
   "cell_type": "code",
   "execution_count": null,
   "id": "b2253144",
   "metadata": {},
   "outputs": [],
   "source": [
    "import numpy as np\n",
    "predict_header = predict_data.columns.values\n",
    "full_output = np.concatenate((\n",
    "    np.concatenate((predict_header.reshape(1, -1), predict_data)), probabilities_output), axis=1)\n",
    "pd.DataFrame(full_output).head()"
   ]
  },
  {
   "cell_type": "markdown",
   "id": "9e36fb88",
   "metadata": {},
   "source": [
    "## Next Steps\n",
    "- Check out TBD"
   ]
  }
 ],
 "metadata": {
  "kernelspec": {
   "display_name": "Python 3 (ipykernel)",
   "language": "python",
   "name": "python3"
  },
  "language_info": {
   "codemirror_mode": {
    "name": "ipython",
    "version": 3
   },
   "file_extension": ".py",
   "mimetype": "text/x-python",
   "name": "python",
   "nbconvert_exporter": "python",
   "pygments_lexer": "ipython3",
   "version": "3.9.6"
  }
 },
 "nbformat": 4,
 "nbformat_minor": 5
}
