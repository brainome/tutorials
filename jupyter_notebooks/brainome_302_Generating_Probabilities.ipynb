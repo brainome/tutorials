{
 "cells": [
  {
   "cell_type": "markdown",
   "id": "cfebebd9",
   "metadata": {},
   "source": [
    "![](https://www.brainome.ai/wp-content/uploads/2020/08/brainome_logo.png)\n",
    "# 302 Generating Probabilities\n",
    "Brainome's Random Forest and Neural Network predictors can also generate probabilities."
   ]
  },
  {
   "cell_type": "markdown",
   "id": "1474a59d",
   "metadata": {},
   "source": [
    "## Install brainome and generate a random forest predictor\n",
    "The predictor filename is [predictor_302.py](predictor_302.py)\n",
    "\n",
    "The data sets are titanic_train.csv, titanic_validate.csv, and titanic_predict.csv"
   ]
  },
  {
   "cell_type": "code",
   "execution_count": null,
   "id": "655a3e12",
   "metadata": {},
   "outputs": [],
   "source": [
    "# pip install brainome \n",
    "import sys\n",
    "!{sys.executable} -m pip install --upgrade brainome --user --quiet\n",
    "!brainome data/titanic_train.csv -y -f RF -split 90 -o predictor_302.py -modelonly -q\n",
    "!head -50 predictor_302.py"
   ]
  },
  {
   "cell_type": "markdown",
   "id": "33177319",
   "metadata": {},
   "source": [
    "## Generating probabilities for a data set\n"
   ]
  },
  {
   "cell_type": "code",
   "execution_count": null,
   "id": "f4dc7f42",
   "metadata": {},
   "outputs": [],
   "source": [
    "import pandas as pd\n",
    "import predictor_302 as predictor\n",
    "predict_data = pd.read_csv('data/titanic_predict.csv', na_values=[], na_filter=False)\n",
    "predict_values = predict_data.values\n",
    "probabilities_output = predictor.predict(predict_values, return_probabilities=True)\n",
    "print(' Prediction Probabilities '.center(80, '-'))\n",
    "print(probabilities_output)"
   ]
  },
  {
   "cell_type": "code",
   "execution_count": null,
   "id": "b2253144",
   "metadata": {},
   "outputs": [],
   "source": [
    "import numpy as np\n",
    "predict_header = predict_data.columns.values\n",
    "full_output = np.concatenate((\n",
    "    np.concatenate((predict_header.reshape(1, -1), predict_data)), probabilities_output), axis=1)\n",
    "# print(full_output[:10])\n",
    "pd.DataFrame(full_output).head()"
   ]
  },
  {
   "cell_type": "markdown",
   "id": "9e36fb88",
   "metadata": {},
   "source": [
    "## Next Steps\n",
    "- Check out [Brainome 104_Using_Predictor](./brainome_104_Using_Predictor.ipynb)\n",
    "- Check out [Brainome 201 Measurements](./brainome_201_Measurements.ipynb)"
   ]
  }
 ],
 "metadata": {
  "celltoolbar": "Edit Metadata",
  "kernelspec": {
   "display_name": "Python 3 (ipykernel)",
   "language": "python",
   "name": "python3"
  },
  "language_info": {
   "codemirror_mode": {
    "name": "ipython",
    "version": 3
   },
   "file_extension": ".py",
   "mimetype": "text/x-python",
   "name": "python",
   "nbconvert_exporter": "python",
   "pygments_lexer": "ipython3",
   "version": "3.9.6"
  }
 },
 "nbformat": 4,
 "nbformat_minor": 5
}
