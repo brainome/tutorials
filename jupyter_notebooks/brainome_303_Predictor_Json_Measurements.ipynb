{
 "cells": [
  {
   "cell_type": "markdown",
   "id": "895a5bb2",
   "metadata": {},
   "source": [
    "![](https://www.brainome.ai/wp-content/uploads/2020/08/brainome_logo.png)\n",
    "# 105 Predictor Validation Measurements in JSON\n",
    "The predictor can output validation measurements in json rather than human readable text.\n",
    "\n",
    "* Validation measurements in json format."
   ]
  },
  {
   "cell_type": "markdown",
   "id": "431b880e",
   "metadata": {},
   "source": [
    "## Prerequisites\n",
    "This notebook assumes brainome is installed as per notebook [brainome_101_Quick_Start](brainome_101_Quick_Start.ipynb)\n",
    "\n",
    "The data sets are:\n",
    "* [data/titanic_train.csv](data/titanic_train.csv) for training data\n",
    "* [data/titanic_validate.csv](data/titanic_validate.csv) for validation"
   ]
  },
  {
   "cell_type": "markdown",
   "id": "540b27d9",
   "metadata": {},
   "source": [
    "## Generate a predictor\n",
    "The predictor filename is [predictor_105.py](predictor_105.py)."
   ]
  },
  {
   "cell_type": "code",
   "execution_count": null,
   "id": "57882e55",
   "metadata": {
    "tags": [
     "output_scroll"
    ]
   },
   "outputs": [],
   "source": [
    "import sys\n",
    "# Assuming brainome is installed per brainome_101_Quick_Start.ipynb\n",
    "!brainome data/titanic_train.csv -y -rank -f DT -split 90 -o predictor_105.py -modelonly -q\n",
    "# Preview predictor\n",
    "!head -n 61 predictor_105.py | tail -n 41"
   ]
  },
  {
   "cell_type": "markdown",
   "id": "c65d5739",
   "metadata": {},
   "source": [
    "## Validation measurements in json format.\n",
    "The same measurements as in the previous exercise can be generated in **-json** format for further system integration"
   ]
  },
  {
   "cell_type": "code",
   "execution_count": null,
   "id": "781a9407",
   "metadata": {},
   "outputs": [],
   "source": [
    "!{sys.executable} predictor_105.py -validate data/titanic_validate.csv -json > validation_measurements_105.json\n",
    "import json\n",
    "with open('validation_measurements_105.json', 'r') as measurement_file:\n",
    "    validation_measurements = json.load(measurement_file)\n",
    "    print(json.dumps(validation_measurements, indent=4))\n"
   ]
  },
  {
   "cell_type": "markdown",
   "id": "e0fa33bb",
   "metadata": {},
   "source": [
    "Download the [validation_measurements_105.json](validation_measurements_105.json)"
   ]
  },
  {
   "cell_type": "markdown",
   "id": "86883ae1",
   "metadata": {},
   "source": [
    "## Advanced Predictor Usage\n",
    "See notebook [brainome_301_Using_Predictors_in_Python.ipynb](brainome_301_Using_Predictors_in_Python.ipynb) for integrating the predictor within your python program."
   ]
  },
  {
   "cell_type": "markdown",
   "id": "83c337d6",
   "metadata": {},
   "source": [
    "## Next Steps\n",
    "- Check out [Brainome 200 Measurements](./brainome_200_Measurements.ipynb)"
   ]
  }
 ],
 "metadata": {
  "kernelspec": {
   "display_name": "Python 3 (ipykernel)",
   "language": "python",
   "name": "python3"
  },
  "language_info": {
   "codemirror_mode": {
    "name": "ipython",
    "version": 3
   },
   "file_extension": ".py",
   "mimetype": "text/x-python",
   "name": "python",
   "nbconvert_exporter": "python",
   "pygments_lexer": "ipython3",
   "version": "3.9.6"
  }
 },
 "nbformat": 4,
 "nbformat_minor": 5
}