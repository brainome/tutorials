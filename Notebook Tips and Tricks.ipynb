{
 "cells": [
  {
   "cell_type": "markdown",
   "id": "3f315ff9",
   "metadata": {},
   "source": [
    "# Notebook Tips and Tricks"
   ]
  },
  {
   "cell_type": "markdown",
   "id": "02c00bf9",
   "metadata": {},
   "source": [
    "## Resources\n",
    "[jupyter-book help](https://jupyterbook.org/content/code-outputs.html)\n",
    "[Markdown cheat sheet](https://www.markdownguide.org/cheat-sheet/)\n",
    "### Brainome Resources\n",
    "https://www.brainome.ai/documentation/quickstart/\n"
   ]
  },
  {
   "cell_type": "markdown",
   "id": "076693a5",
   "metadata": {},
   "source": [
    "## Images"
   ]
  },
  {
   "cell_type": "markdown",
   "id": "78586255",
   "metadata": {},
   "source": [
    "### display an image url using code"
   ]
  },
  {
   "cell_type": "code",
   "execution_count": null,
   "id": "0fcf0afb",
   "metadata": {},
   "outputs": [],
   "source": [
    "from IPython.display import Image\n",
    "Image('https://www.brainome.ai/wp-content/uploads/2020/08/brainome_logo.png')"
   ]
  },
  {
   "cell_type": "markdown",
   "id": "e2081583",
   "metadata": {},
   "source": [
    "### display an image via markdown"
   ]
  },
  {
   "cell_type": "markdown",
   "id": "bca453c0",
   "metadata": {},
   "source": [
    "![](https://www.brainome.ai/wp-content/uploads/2020/08/brainome_logo.png)"
   ]
  },
  {
   "cell_type": "markdown",
   "id": "63828323",
   "metadata": {},
   "source": [
    "## Output Control"
   ]
  },
  {
   "cell_type": "markdown",
   "id": "229cbeb9",
   "metadata": {},
   "source": [
    "### Scrolling the output via cell metadata"
   ]
  },
  {
   "cell_type": "markdown",
   "id": "59f38e50",
   "metadata": {},
   "source": [
    "`{\n",
    "  \"tags\": [\n",
    "    \"output_scroll\"\n",
    "  ]\n",
    "}`"
   ]
  },
  {
   "cell_type": "markdown",
   "id": "d2d83551",
   "metadata": {},
   "source": [
    "### CSV table browser"
   ]
  },
  {
   "cell_type": "code",
   "execution_count": null,
   "id": "4bf81306",
   "metadata": {},
   "outputs": [],
   "source": [
    "import pandas as pd\n",
    "training_data = pd.read_csv('titanic_train.csv')\n",
    "training_data.head()"
   ]
  }
 ],
 "metadata": {
  "kernelspec": {
   "display_name": "Python 3 (ipykernel)",
   "language": "python",
   "name": "python3"
  },
  "language_info": {
   "codemirror_mode": {
    "name": "ipython",
    "version": 3
   },
   "file_extension": ".py",
   "mimetype": "text/x-python",
   "name": "python",
   "nbconvert_exporter": "python",
   "pygments_lexer": "ipython3",
   "version": "3.9.6"
  }
 },
 "nbformat": 4,
 "nbformat_minor": 5
}